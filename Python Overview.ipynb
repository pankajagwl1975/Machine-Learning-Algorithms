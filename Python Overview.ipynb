{
 "cells": [
  {
   "cell_type": "markdown",
   "metadata": {},
   "source": [
    "# Why Python is the best programming language for machine learning?"
   ]
  },
  {
   "cell_type": "markdown",
   "metadata": {},
   "source": [
    "## Python is currently the best programming language for research and development in machine learning just because of three specific reasons:\n",
    "\n",
    "### 1. Python is very easy to use\n",
    "- Python syntax are very easy to understand and use\n",
    "- Can implement any logic in Python in very few lines of code as compare to other languages\n",
    "\n",
    "### 2. Python supports multiple libraries and frameworks : \n",
    "#### As python is an open source, so there are many libraries alog with various frameworks. Some of useful libraries are:\n",
    "- Numpy: Used to create multidimensional array\n",
    "- Pandas: Help us to read from different kind of data sources, retrieve the data. With the help of data frames and data series we can perform different kind of operations.\n",
    "- Visualization libraries: 1) matplotlib     2). seaborn\n",
    "- scikitlearn: Most of the Machine learning algorithms are present here. \n",
    "- 1). It can be supervised machine learning algorithm (eg. simple linear regression, logistic regression, decision tree, random forest etc.).\n",
    "- 2). It can also be unsupervised machine learning or clustering (K-means clustering, hirarchical clustering).\n",
    "- 3). It can be Deep Learning (a subset of machine learning). We use various frameworks like  Tensorflow, Keras, PYTORCH etc.\n",
    "#### Python is also used to create web based applications, web services, and web scrapps etc.\n",
    "\n",
    "### 3. Python has community and corporate support\n",
    "- Many developers are using python to increase their machine learning knowledge and to implement variuos web based projects\n",
    "- There are various github links, online repositories, online learning resources where we can find implementations, variuos machine learning projects just because of python.\n",
    "- Many top level companies like Google, Facebook, Amazon etc. are using python to develop their most of the projects eg. Amazon Alexa, Facebook friend recommendation system, Google assistant etc.\n"
   ]
  },
  {
   "cell_type": "markdown",
   "metadata": {},
   "source": [
    "# Basic Syntex\n",
    "### Basic syntax of a python program is too simple than other languages. \n",
    "### Let's take an example, here the following program prints \"Hello Python”"
   ]
  },
  {
   "cell_type": "code",
   "execution_count": 55,
   "metadata": {},
   "outputs": [
    {
     "name": "stdout",
     "output_type": "stream",
     "text": [
      "Hello Python\n"
     ]
    }
   ],
   "source": [
    "print(\"Hello Python\")"
   ]
  },
  {
   "cell_type": "markdown",
   "metadata": {},
   "source": [
    "## The print function automatically prints a linefeed (\\n) to cause the output advanced to the next line "
   ]
  },
  {
   "cell_type": "code",
   "execution_count": 1,
   "metadata": {},
   "outputs": [
    {
     "name": "stdout",
     "output_type": "stream",
     "text": [
      "Hello\n",
      "World\n",
      "Good day\n"
     ]
    }
   ],
   "source": [
    "#print function without end argument\n",
    "print('Hello')\n",
    "print('World')\n",
    "print('Good day')"
   ]
  },
  {
   "cell_type": "markdown",
   "metadata": {},
   "source": [
    "## If want to display the above message in one line without using a single print statement, then we can invoke the print function by passing a special argument named end = ' '."
   ]
  },
  {
   "cell_type": "code",
   "execution_count": 58,
   "metadata": {},
   "outputs": [
    {
     "name": "stdout",
     "output_type": "stream",
     "text": [
      "Hello World Good day "
     ]
    }
   ],
   "source": [
    "#print function with end argument\n",
    "print('Hello', end = ' ')\n",
    "print('World', end = ' ')\n",
    "print('Good day', end = ' ')"
   ]
  },
  {
   "cell_type": "code",
   "execution_count": null,
   "metadata": {},
   "outputs": [],
   "source": []
  },
  {
   "cell_type": "markdown",
   "metadata": {},
   "source": [
    "# Variables in Python\n",
    "### Variables in Python, are the reserved memory locations to store the values in a Pythonprogram."
   ]
  },
  {
   "cell_type": "code",
   "execution_count": 6,
   "metadata": {},
   "outputs": [
    {
     "name": "stdout",
     "output_type": "stream",
     "text": [
      "Sum :  60\n",
      "Substract :  40\n",
      "Multiply :  500\n",
      "Divide :  5.0\n"
     ]
    }
   ],
   "source": [
    "a = 50\n",
    "b = 10\n",
    "r = 0\n",
    "r = a + b\n",
    "print (\"Sum : \", r)\n",
    "r = a - b\n",
    "print (\"Substract : \", r)\n",
    "r = a * b\n",
    "print (\"Multiply : \", r)\n",
    "r = a / b\n",
    "print (\"Divide : \", r)"
   ]
  },
  {
   "cell_type": "markdown",
   "metadata": {},
   "source": [
    "# Read User Input from Keyboard in Python"
   ]
  },
  {
   "cell_type": "markdown",
   "metadata": {},
   "source": [
    "### Get Input from user"
   ]
  },
  {
   "cell_type": "code",
   "execution_count": 5,
   "metadata": {},
   "outputs": [
    {
     "name": "stdout",
     "output_type": "stream",
     "text": [
      "Enter string1 :Hello\n",
      "Enter string 2 :Welcome to Python Programming\n",
      "String 1 is : Hello\n",
      "String 2 is : Welcome to Python Programming\n"
     ]
    }
   ],
   "source": [
    "str1 = input(\"Enter string1 :\")\n",
    "str2 = input(\"Enter string 2 :\")\n",
    "print('String 1 is :',str1)\n",
    "print('String 2 is :',str2)"
   ]
  },
  {
   "cell_type": "markdown",
   "metadata": {},
   "source": [
    "### Get Integer Input from User "
   ]
  },
  {
   "cell_type": "code",
   "execution_count": 3,
   "metadata": {},
   "outputs": [
    {
     "name": "stdout",
     "output_type": "stream",
     "text": [
      "Enter two numbers to add\n",
      "Enter the first number20\n",
      "Enter the second number31\n",
      "Result of adition is:  51\n"
     ]
    }
   ],
   "source": [
    "print(\"Enter two numbers to add\")\n",
    "val1 = int (input(\"Enter the first number\"))\n",
    "val2 = int (input(\"Enter the second number\"))\n",
    "result = val1 + val2\n",
    "print (\"Result of adition is: \",result)"
   ]
  },
  {
   "cell_type": "markdown",
   "metadata": {},
   "source": [
    "### Get Floating-point Input from User\n",
    "#### Below python program shows how to get floating-point input from user in python:\n"
   ]
  },
  {
   "cell_type": "code",
   "execution_count": 4,
   "metadata": {},
   "outputs": [
    {
     "name": "stdout",
     "output_type": "stream",
     "text": [
      "Enter two numbers to add\n",
      "Enter the first number20\n",
      "Enter the second number31\n",
      "Result of adition is:  51.0\n"
     ]
    }
   ],
   "source": [
    "print(\"Enter two numbers to add\")\n",
    "val1 = float (input(\"Enter the first number\"))\n",
    "val2 = float (input(\"Enter the second number\"))\n",
    "result = val1 + val2\n",
    "print (\"Result of adition is: \",result)"
   ]
  },
  {
   "cell_type": "markdown",
   "metadata": {},
   "source": [
    "## The eval() function : \n",
    "### The full form of eval function is to evaluate. It takes a string s parameter and returns it as if it is a Python expression. "
   ]
  },
  {
   "cell_type": "code",
   "execution_count": 6,
   "metadata": {},
   "outputs": [
    {
     "name": "stdout",
     "output_type": "stream",
     "text": [
      "Hello\n"
     ]
    }
   ],
   "source": [
    "eval('print(\"Hello\")')"
   ]
  },
  {
   "cell_type": "markdown",
   "metadata": {},
   "source": [
    "### The eval function takes a string and returns it in the type it is expected. "
   ]
  },
  {
   "cell_type": "code",
   "execution_count": 60,
   "metadata": {},
   "outputs": [
    {
     "name": "stdout",
     "output_type": "stream",
     "text": [
      "123\n",
      "<class 'int'>\n"
     ]
    }
   ],
   "source": [
    "x = eval('123')\n",
    "print(x)\n",
    "print(type(x))"
   ]
  },
  {
   "cell_type": "markdown",
   "metadata": {},
   "source": [
    "### Apply eval () function to input () function "
   ]
  },
  {
   "cell_type": "markdown",
   "metadata": {},
   "source": [
    "#### input () function returns every input by the user as string, including numbers. By making eval () function, we can avoid specifying a particular type before the input function."
   ]
  },
  {
   "cell_type": "code",
   "execution_count": 8,
   "metadata": {},
   "outputs": [
    {
     "name": "stdout",
     "output_type": "stream",
     "text": [
      "Enter name :Ram\n",
      "Enter age :26\n",
      "Enter gender :Male\n",
      "Enter height :5.8\n",
      "User deatil as follows :\n",
      "Name : Ram\n",
      "Age : 26\n",
      "Gender : Male\n",
      "Hieght : 5.8\n"
     ]
    }
   ],
   "source": [
    "name = input('Enter name :')\n",
    "age = eval(input('Enter age :'))\n",
    "gender = input('Enter gender :')\n",
    "height = eval(input('Enter height :'))\n",
    "print ('User deatil as follows :')\n",
    "print (\"Name :\",name)\n",
    "print(\"Age :\",age)\n",
    "print(\"Gender :\", gender)\n",
    "print(\"Hieght :\",height)"
   ]
  },
  {
   "cell_type": "markdown",
   "metadata": {},
   "source": [
    "## Formatting Numbers and Strings\n",
    "### A formatting string helps make string look presenable to the user for printing. format function is used to return a formatted string. Syntax : format (item, format-specifier)"
   ]
  },
  {
   "cell_type": "code",
   "execution_count": 9,
   "metadata": {},
   "outputs": [
    {
     "name": "stdout",
     "output_type": "stream",
     "text": [
      "Enter the radius of a circle :4\n",
      "Radius : 4\n",
      "Area of circle is : 50.2848\n"
     ]
    }
   ],
   "source": [
    "# Program to calculate area of a circle without using format function\n",
    "radius = int(input(\"Enter the radius of a circle :\"))\n",
    "print (\"Radius :\", radius)\n",
    "PI = 3.1428\n",
    "area = PI * radius**2\n",
    "print (\"Area of circle is :\", area)"
   ]
  },
  {
   "cell_type": "code",
   "execution_count": 13,
   "metadata": {},
   "outputs": [
    {
     "name": "stdout",
     "output_type": "stream",
     "text": [
      "Enter the radius of a circle :4\n",
      "Radius : 4\n",
      "Area of circle is : 50.28\n"
     ]
    }
   ],
   "source": [
    "# Program to calculate area of a circle using format function\n",
    "radius = int(input(\"Enter the radius of a circle :\"))\n",
    "print (\"Radius :\", radius)\n",
    "PI = 3.1428\n",
    "area = PI * radius**2\n",
    "print (\"Area of circle is :\", format(area,\".2f\"))"
   ]
  },
  {
   "cell_type": "markdown",
   "metadata": {},
   "source": [
    "### Formatting floating point numbers\n"
   ]
  },
  {
   "cell_type": "code",
   "execution_count": 61,
   "metadata": {},
   "outputs": [
    {
     "name": "stdout",
     "output_type": "stream",
     "text": [
      "10.35\n"
     ]
    }
   ],
   "source": [
    "print(format(10.345,'.2f'))"
   ]
  },
  {
   "cell_type": "code",
   "execution_count": 15,
   "metadata": {},
   "outputs": [
    {
     "name": "stdout",
     "output_type": "stream",
     "text": [
      "  10.35\n"
     ]
    }
   ],
   "source": [
    "print(format(10.345,'7.2f'))"
   ]
  },
  {
   "cell_type": "markdown",
   "metadata": {},
   "source": [
    "### Justifying format : \n",
    "#### By default, the integer number is right justified. We can insert < in the format specifier to specify an item to be left justified."
   ]
  },
  {
   "cell_type": "code",
   "execution_count": 16,
   "metadata": {},
   "outputs": [
    {
     "name": "stdout",
     "output_type": "stream",
     "text": [
      "     10.23\n",
      "10.23     \n"
     ]
    }
   ],
   "source": [
    "print(format(10.234566,\"10.2f\"))\n",
    "print(format(10.234566,\"<10.2f\"))"
   ]
  },
  {
   "cell_type": "markdown",
   "metadata": {},
   "source": [
    "### Integer formatting\n",
    "#### In case of integer formatting, we can make use of conversion code."
   ]
  },
  {
   "cell_type": "code",
   "execution_count": 18,
   "metadata": {},
   "outputs": [
    {
     "name": "stdout",
     "output_type": "stream",
     "text": [
      "        14\n",
      "14        \n",
      "      1234\n"
     ]
    }
   ],
   "source": [
    "#Integer formatted to hexadecimal integer\n",
    "print(format(20,\"10x\"))\n",
    "print(format(20,\"<10x\"))\n",
    "print(format(1234,\"10d\"))"
   ]
  },
  {
   "cell_type": "markdown",
   "metadata": {},
   "source": [
    "### Formatting String\n",
    "#### A programmer can make use of conversion code s to format a string with a specified width. By default a string is left justified"
   ]
  },
  {
   "cell_type": "code",
   "execution_count": 19,
   "metadata": {},
   "outputs": [
    {
     "name": "stdout",
     "output_type": "stream",
     "text": [
      "Hello world!             \n",
      "             Hello world!\n"
     ]
    }
   ],
   "source": [
    "print (format(\"Hello world!\",\"25s\"))\n",
    "print (format(\"Hello world!\",\">25s\"))"
   ]
  },
  {
   "cell_type": "markdown",
   "metadata": {},
   "source": [
    "### Formatting as a percentage\n",
    "#### The convesion code %is used to format a number as a percentage"
   ]
  },
  {
   "cell_type": "code",
   "execution_count": 20,
   "metadata": {},
   "outputs": [
    {
     "name": "stdout",
     "output_type": "stream",
     "text": [
      "    31.46%\n",
      "   314.56%\n"
     ]
    }
   ],
   "source": [
    "print(format(0.31456,\"10.2%\"))\n",
    "print(format(3.1456,\"10.2%\"))"
   ]
  },
  {
   "cell_type": "markdown",
   "metadata": {},
   "source": [
    "### Formatting scientific notation\n",
    "#### If we want to format a given floating point number in scientific notation then the conversion code e will be used."
   ]
  },
  {
   "cell_type": "code",
   "execution_count": 21,
   "metadata": {},
   "outputs": [
    {
     "name": "stdout",
     "output_type": "stream",
     "text": [
      "  3.12e+01\n",
      "  1.31e+02\n"
     ]
    }
   ],
   "source": [
    "print(format(31.2345, \"10.2e\"))\n",
    "print(format(131.2345, \"10.2e\"))"
   ]
  },
  {
   "cell_type": "markdown",
   "metadata": {},
   "source": [
    "## Conditional Statements\n",
    "### Decision making is required when we want to execute a code only if a certain condition is satisfied. Python supports various decision making  statement.\n",
    "- If statements\n",
    "- If-else statements\n",
    "- Nested if statements\n",
    "- Multi-way if-elif-else statements"
   ]
  },
  {
   "cell_type": "markdown",
   "metadata": {},
   "source": [
    "### if statement"
   ]
  },
  {
   "cell_type": "code",
   "execution_count": 22,
   "metadata": {},
   "outputs": [
    {
     "name": "stdout",
     "output_type": "stream",
     "text": [
      "3 is a positive number.\n",
      "This is always printed.\n",
      "This is also always printed.\n"
     ]
    }
   ],
   "source": [
    "# If the number is positive, we print an appropriate message\n",
    "\n",
    "num = 3\n",
    "if num > 0:\n",
    "    print(num, \"is a positive number.\")\n",
    "print(\"This is always printed.\")\n",
    "\n",
    "num = -1\n",
    "if num > 0:\n",
    "    print(num, \"is a positive number.\")\n",
    "print(\"This is also always printed.\")\n"
   ]
  },
  {
   "cell_type": "markdown",
   "metadata": {},
   "source": [
    "### if....else statement"
   ]
  },
  {
   "cell_type": "code",
   "execution_count": 23,
   "metadata": {},
   "outputs": [
    {
     "name": "stdout",
     "output_type": "stream",
     "text": [
      "Enter number :-5\n",
      "Negative number\n"
     ]
    }
   ],
   "source": [
    "# Program checks if the number is positive or negative\n",
    "# And displays an appropriate message\n",
    "\n",
    "num = int(input(\"Enter number :\"))\n",
    "if num >= 0:\n",
    "    print(\"Positive or Zero\")\n",
    "else:\n",
    "    print(\"Negative number\")"
   ]
  },
  {
   "cell_type": "markdown",
   "metadata": {},
   "source": [
    "### Nested if statements"
   ]
  },
  {
   "cell_type": "code",
   "execution_count": 24,
   "metadata": {},
   "outputs": [
    {
     "name": "stdout",
     "output_type": "stream",
     "text": [
      "Enter a number: 6\n",
      "Positive number\n"
     ]
    }
   ],
   "source": [
    "# In this program, we input a number\n",
    "# check if the number is positive or\n",
    "# negative or zero and display\n",
    "# an appropriate message\n",
    "# This time we use nested if\n",
    "num = float(input(\"Enter a number: \"))\n",
    "if num >= 0:\n",
    "    if num == 0:\n",
    "        print(\"Zero\")\n",
    "    else:\n",
    "        print(\"Positive number\")\n",
    "else:\n",
    "    print(\"Negative number\")\n"
   ]
  },
  {
   "cell_type": "markdown",
   "metadata": {},
   "source": [
    "### if...elif...else Statement"
   ]
  },
  {
   "cell_type": "code",
   "execution_count": 25,
   "metadata": {},
   "outputs": [
    {
     "name": "stdout",
     "output_type": "stream",
     "text": [
      "Positive number\n"
     ]
    }
   ],
   "source": [
    "# In this program, \n",
    "# we check if the number is positive or\n",
    "# negative or zero and \n",
    "# display an appropriate message\n",
    "\n",
    "num = 3.4\n",
    "\n",
    "# Try these two variations as well:\n",
    "# num = 0\n",
    "# num = -4.5\n",
    "\n",
    "if num > 0:\n",
    "    print(\"Positive number\")\n",
    "elif num == 0:\n",
    "    print(\"Zero\")\n",
    "else:\n",
    "    print(\"Negative number\")\n"
   ]
  },
  {
   "cell_type": "markdown",
   "metadata": {},
   "source": [
    "## Loop Statements\n",
    "### Loops are used in programming to repeat a specific block of code.Python provides three types of looping techniques:\n",
    "- for loop\n",
    "- while loop\n",
    "- nested loop\n"
   ]
  },
  {
   "cell_type": "markdown",
   "metadata": {},
   "source": [
    "### for loop\n",
    "#### The for loop in Python is used to iterate over a sequence (list, tuple, string) or other iterable objects. Iterating over a sequence is called traversal.\n",
    "\n",
    "#### The range() function\n",
    "\n",
    "- We can generate a sequence of numbers using range() function. range(10) will generate numbers from 0 to 9 (10 numbers).\n",
    "\n",
    "- We can also define the start, stop and step size as range(start,stop,step size). step size defaults to 1 if not provided.\n",
    "\n",
    "- This function does not store all the values in memory, it would be inefficient. So it remembers the start, stop, step size and generates the next number on the go.\n"
   ]
  },
  {
   "cell_type": "code",
   "execution_count": 29,
   "metadata": {},
   "outputs": [
    {
     "name": "stdout",
     "output_type": "stream",
     "text": [
      "range(0, 10)\n",
      "[0, 1, 2, 3, 4, 5, 6, 7, 8, 9]\n",
      "[2, 3, 4, 5, 6, 7]\n",
      "[2, 5, 8, 11, 14, 17]\n"
     ]
    }
   ],
   "source": [
    "# Output: range(0, 10)\n",
    "print(range(10))\n",
    "\n",
    "# Output: [0, 1, 2, 3, 4, 5, 6, 7, 8, 9]\n",
    "print(list(range(10)))\n",
    "\n",
    "# Output: [2, 3, 4, 5, 6, 7]\n",
    "print(list(range(2, 8)))\n",
    "\n",
    "# Output: [2, 5, 8, 11, 14, 17]\n",
    "print(list(range(2, 20, 3)))\n"
   ]
  },
  {
   "cell_type": "code",
   "execution_count": 64,
   "metadata": {},
   "outputs": [
    {
     "name": "stdout",
     "output_type": "stream",
     "text": [
      "1\n",
      "2\n",
      "3\n",
      "4\n",
      "5\n",
      "6\n",
      "7\n",
      "8\n",
      "9\n",
      "10\n"
     ]
    }
   ],
   "source": [
    "for i in range(1,11):\n",
    "    print(i,)"
   ]
  },
  {
   "cell_type": "code",
   "execution_count": 28,
   "metadata": {},
   "outputs": [
    {
     "name": "stdout",
     "output_type": "stream",
     "text": [
      "I like pop\n",
      "I like rock\n",
      "I like jazz\n"
     ]
    }
   ],
   "source": [
    "# Program to iterate through a list using indexing\n",
    "\n",
    "genre = ['pop', 'rock', 'jazz']\n",
    "\n",
    "# iterate over the list using index\n",
    "for i in range(len(genre)):\n",
    "    print(\"I like\", genre[i])\n"
   ]
  },
  {
   "cell_type": "code",
   "execution_count": 27,
   "metadata": {},
   "outputs": [
    {
     "name": "stdout",
     "output_type": "stream",
     "text": [
      "The sum is 48\n"
     ]
    }
   ],
   "source": [
    "# Program to find the sum of all numbers stored in a list\n",
    "\n",
    "# List of numbers\n",
    "numbers = [6, 5, 3, 8, 4, 2, 5, 4, 11]\n",
    "\n",
    "# variable to store the sum\n",
    "sum = 0\n",
    "\n",
    "# iterate over the list\n",
    "for val in numbers:\n",
    "    sum = sum+val\n",
    "\n",
    "# Output\n",
    "print(\"The sum is\", sum)"
   ]
  },
  {
   "cell_type": "markdown",
   "metadata": {},
   "source": [
    "### While loop\n",
    "- The while loop in Python is used to iterate over a block of code as long as the test expression (condition) is true.\n",
    "- We generally use this loop when we don't know beforehand, the number of times to iterate."
   ]
  },
  {
   "cell_type": "code",
   "execution_count": 30,
   "metadata": {},
   "outputs": [
    {
     "name": "stdout",
     "output_type": "stream",
     "text": [
      "The sum is 55\n"
     ]
    }
   ],
   "source": [
    "# Program to add natural\n",
    "# numbers upto \n",
    "# sum = 1+2+3+...+n\n",
    "\n",
    "# To take input from the user,\n",
    "# n = int(input(\"Enter n: \"))\n",
    "\n",
    "n = 10\n",
    "\n",
    "# initialize sum and counter\n",
    "sum = 0\n",
    "i = 1\n",
    "\n",
    "while i <= n:\n",
    "    sum = sum + i\n",
    "    i = i+1    # update counter\n",
    "\n",
    "# print the sum\n",
    "print(\"The sum is\", sum)"
   ]
  },
  {
   "cell_type": "markdown",
   "metadata": {},
   "source": [
    "### Python break and Continue\n",
    "- In Python, break and continue statements can alter the flow of a normal loop.\n",
    "- Loops iterate over a block of code until test expression is false, but sometimes we wish to terminate the current iteration or even the whole loop without checking test expression.\n",
    "- The break and continue statements are used in these cases."
   ]
  },
  {
   "cell_type": "code",
   "execution_count": 31,
   "metadata": {},
   "outputs": [
    {
     "name": "stdout",
     "output_type": "stream",
     "text": [
      "s\n",
      "t\n",
      "r\n",
      "The end\n"
     ]
    }
   ],
   "source": [
    "# Use of break statement inside loop\n",
    "\n",
    "for val in \"string\":\n",
    "    if val == \"i\":\n",
    "        break\n",
    "    print(val)\n",
    "\n",
    "print(\"The end\")"
   ]
  },
  {
   "cell_type": "code",
   "execution_count": 39,
   "metadata": {},
   "outputs": [
    {
     "name": "stdout",
     "output_type": "stream",
     "text": [
      "1 2 3 4 6 7 8 9 10 "
     ]
    }
   ],
   "source": [
    "# Program to show the use of continue statement inside loops\n",
    "for i in range(1,11,1):\n",
    "    if i == 5:\n",
    "        continue\n",
    "    print(i,end = \" \")"
   ]
  },
  {
   "cell_type": "markdown",
   "metadata": {},
   "source": [
    "# Data Structures in Python\n",
    "### Everything in Python, is simply an object and every object has an identity, a type and a value. There are following five standard data structures available in Python programming: \n",
    "- 1) Strings \n",
    "- 2) Lists\n",
    "- 3) Tuples \n",
    "- 4) Sets \n",
    "- 5) Dictionaries\n"
   ]
  },
  {
   "cell_type": "markdown",
   "metadata": {},
   "source": [
    "# String Data Type\n",
    "\n",
    "### Strings in Python, are contiguous set of characters between quotation marks. \n",
    "\n",
    "### In python string is an object of string class. \n",
    "\n",
    "### Strings are immutable sequence of characters\n",
    "\n",
    "### The characters in a string are zero based.\n",
    " "
   ]
  },
  {
   "cell_type": "code",
   "execution_count": 51,
   "metadata": {},
   "outputs": [
    {
     "name": "stdout",
     "output_type": "stream",
     "text": [
      "Welcome to the World of Python\n",
      "30\n",
      " \n",
      "y\n",
      "W\n",
      "Wloet h ol fPto\n",
      "Welcome to the World of Python\n",
      "nohtyP fo dlroW eht ot emocleW\n",
      "nohtyP fo dlroW eht ot emocle\n",
      "Welcome to the World of Pytho\n",
      "lcome \n",
      "Welcome to the World of Pyt\n",
      "come to the World of Python\n",
      "Welcome to the World of PythonWelcome to the World of PythonWelcome to the World of Python\n",
      "Welcome to the World of PythonProgramming\n",
      "True\n",
      "False\n"
     ]
    }
   ],
   "source": [
    "str1 = 'Welcome to the World of Python'\n",
    "print (str1)\n",
    "print(len(str1))\n",
    "print(min(str1))\n",
    "print(max(str1))\n",
    "print (str1[0])\n",
    "print(str1[0:len(str1):2])\n",
    "print(str1[::])\n",
    "print(str1[::-1])\n",
    "print(str1[-1:0:-1])\n",
    "print(str1[:-1])\n",
    "print (str1[2 : 8])\n",
    "print (str1[ : -3])\n",
    "print (str1[3 : ])\n",
    "print (str1 * 3)\n",
    "print (str1 + 'Programming')\n",
    "print(\"to\" in str1)\n",
    "print(\"World\" not in str1)"
   ]
  },
  {
   "cell_type": "code",
   "execution_count": 42,
   "metadata": {},
   "outputs": [
    {
     "ename": "TypeError",
     "evalue": "'str' object does not support item assignment",
     "output_type": "error",
     "traceback": [
      "\u001b[1;31m---------------------------------------------------------------------------\u001b[0m",
      "\u001b[1;31mTypeError\u001b[0m                                 Traceback (most recent call last)",
      "\u001b[1;32m<ipython-input-42-5b1b75cb3484>\u001b[0m in \u001b[0;36m<module>\u001b[1;34m\u001b[0m\n\u001b[0;32m      1\u001b[0m \u001b[1;31m# immutable sequence of characters\u001b[0m\u001b[1;33m\u001b[0m\u001b[1;33m\u001b[0m\u001b[1;33m\u001b[0m\u001b[0m\n\u001b[0;32m      2\u001b[0m \u001b[0mstr2\u001b[0m \u001b[1;33m=\u001b[0m \u001b[1;34m\"Python is a good programming language\"\u001b[0m\u001b[1;33m\u001b[0m\u001b[1;33m\u001b[0m\u001b[0m\n\u001b[1;32m----> 3\u001b[1;33m \u001b[0mstr2\u001b[0m\u001b[1;33m[\u001b[0m\u001b[1;36m0\u001b[0m\u001b[1;33m]\u001b[0m \u001b[1;33m=\u001b[0m \u001b[1;34m\"J\"\u001b[0m\u001b[1;33m\u001b[0m\u001b[1;33m\u001b[0m\u001b[0m\n\u001b[0m\u001b[0;32m      4\u001b[0m \u001b[0mprint\u001b[0m\u001b[1;33m(\u001b[0m\u001b[0mstr2\u001b[0m\u001b[1;33m)\u001b[0m\u001b[1;33m\u001b[0m\u001b[1;33m\u001b[0m\u001b[0m\n",
      "\u001b[1;31mTypeError\u001b[0m: 'str' object does not support item assignment"
     ]
    }
   ],
   "source": [
    "# immutable sequence of characters\n",
    "str2 = \"Python is a good programming language\"\n",
    "str2[0] = \"J\"\n",
    "print(str2)"
   ]
  },
  {
   "cell_type": "markdown",
   "metadata": {},
   "source": [
    "### The split() function"
   ]
  },
  {
   "cell_type": "code",
   "execution_count": 52,
   "metadata": {},
   "outputs": [
    {
     "name": "stdout",
     "output_type": "stream",
     "text": [
      "['C', 'C++', 'Java', 'Python']\n"
     ]
    }
   ],
   "source": [
    "str3 = \"C C++ Java Python\"\n",
    "print(str3.split())"
   ]
  },
  {
   "cell_type": "markdown",
   "metadata": {},
   "source": [
    "### String traversal"
   ]
  },
  {
   "cell_type": "code",
   "execution_count": 53,
   "metadata": {},
   "outputs": [
    {
     "name": "stdout",
     "output_type": "stream",
     "text": [
      "India"
     ]
    }
   ],
   "source": [
    "S = \"India\"\n",
    "for ch in S:\n",
    "    print(ch,end='')"
   ]
  },
  {
   "cell_type": "code",
   "execution_count": 54,
   "metadata": {},
   "outputs": [
    {
     "name": "stdout",
     "output_type": "stream",
     "text": [
      "India"
     ]
    }
   ],
   "source": [
    "S= \"India\"\n",
    "index = 0\n",
    "while index<len(S):\n",
    "    print(S[index],end='')\n",
    "    index = index + 1"
   ]
  },
  {
   "cell_type": "markdown",
   "metadata": {},
   "source": [
    "# List Data type\n",
    "### A list basically contains items separated by commas and enclosed within the square brackets [ ]. Items in the list need n't be of the same type."
   ]
  },
  {
   "cell_type": "code",
   "execution_count": 2,
   "metadata": {},
   "outputs": [
    {
     "name": "stdout",
     "output_type": "stream",
     "text": [
      "['Python', 'Programming', 2310, 4491]\n",
      "[1, 2, 3, 4, 5]\n",
      "['a', 'b', 'c', 'd', 'e']\n"
     ]
    }
   ],
   "source": [
    "#Example 1\n",
    "list1 = ['Python', 'Programming', 2310, 4491]\n",
    "list2 = [1, 2, 3, 4, 5]\n",
    "list3 = ['a', 'b', 'c', 'd', 'e']\n",
    "print(list1)\n",
    "print(list2)\n",
    "print(list3)"
   ]
  },
  {
   "cell_type": "code",
   "execution_count": 5,
   "metadata": {},
   "outputs": [
    {
     "name": "stdout",
     "output_type": "stream",
     "text": [
      "Programming\n",
      "1\n",
      "d\n",
      "4491\n",
      "4\n"
     ]
    }
   ],
   "source": [
    "#Accessing elements of list\n",
    "print(list1[1])\n",
    "print(list2[0])\n",
    "print(list3[3])\n",
    "print(list1[-1])\n",
    "print(list2[-2])"
   ]
  },
  {
   "cell_type": "markdown",
   "metadata": {},
   "source": [
    "### List Slicing \n",
    "#### List slicing returns a subset of a list called slice by specifying two indices, start and end. Syntax : list_variable[start_index : end_index].\n",
    "#### In that a  third parameter i.e. step size can also be added. Syntax : list_variable[start_index : end_index : step_size]."
   ]
  },
  {
   "cell_type": "code",
   "execution_count": 8,
   "metadata": {},
   "outputs": [
    {
     "name": "stdout",
     "output_type": "stream",
     "text": [
      "['first', 'list item', 21, 4, 5, 25]\n",
      "['list item', 21, 4]\n",
      "['list item', 21, 4, 5, 25]\n",
      "['first', 21, 5]\n",
      "['list', 'another', 'is', 'This']\n",
      "[25, 5, 4, 21, 'list item']\n",
      "first\n",
      "['first', 'list item', 21, 4]\n",
      "['first', 'list item', 21, 4, 5, 25, 'first', 'list item', 21, 4, 5, 25]\n",
      "['first', 'list item', 21, 4, 5, 25, 'This', 'is', 'another', 'list']\n"
     ]
    }
   ],
   "source": [
    "#Example 2\n",
    "list1 = [\"first\", \"list item\", 21, 4, 5, 25]\n",
    "list2 = [\"This\", \"is\", \"another\", \"list\"]\n",
    "print(list1)\n",
    "print(list1[1 : 4])\n",
    "print(list1[1 : ])\n",
    "print(list1[0 : 5 :2])\n",
    "print(list2[::-1])\n",
    "print(list1[-1:0:-1])\n",
    "print(list1[0])\n",
    "print(list1[ : -2])\n",
    "print(list1 * 2)\n",
    "print(list1 +list2)\n"
   ]
  },
  {
   "cell_type": "markdown",
   "metadata": {},
   "source": [
    "# List Built_In_Methods"
   ]
  },
  {
   "cell_type": "markdown",
   "metadata": {},
   "source": [
    "#### len() : Returns the number of elements in a list \n",
    "#### max() : Returns the element with a greatest value\n",
    "#### min() : Returns the element with the lowest value\n",
    "#### sum() : Return the sum of all the elements\n",
    "#### random.shuffle() : Shuffles the elements randomly"
   ]
  },
  {
   "cell_type": "code",
   "execution_count": 19,
   "metadata": {},
   "outputs": [
    {
     "name": "stdout",
     "output_type": "stream",
     "text": [
      "6\n",
      "7\n",
      "1\n",
      "28\n",
      "[4, 7, 5, 3, 1, 6, 2]\n"
     ]
    }
   ],
   "source": [
    "import random\n",
    "list1 = [\"first\", \"list item\", 21, 4, 5, 25]\n",
    "list2 = [1,2,3,4,5,6,7]\n",
    "print(len(list1))\n",
    "print(max(list2))\n",
    "print(min(list2))\n",
    "print(sum(list2))\n",
    "random.shuffle(list2)\n",
    "print(list2)"
   ]
  },
  {
   "cell_type": "markdown",
   "metadata": {},
   "source": [
    "## List append() : Add Single Element to The List\n",
    "\n",
    "### list.append(item)\n"
   ]
  },
  {
   "cell_type": "code",
   "execution_count": 17,
   "metadata": {},
   "outputs": [
    {
     "name": "stdout",
     "output_type": "stream",
     "text": [
      "['first', 'list item', 21, 4, 5, 25, 24]\n"
     ]
    }
   ],
   "source": [
    "list1 = [\"first\", \"list item\", 21, 4, 5, 25]\n",
    "list1.append(24)\n",
    "print(list1)"
   ]
  },
  {
   "cell_type": "markdown",
   "metadata": {},
   "source": [
    "## List extend() : Add Elements of a List to Another List\n",
    "### list1.extend(list2)\n"
   ]
  },
  {
   "cell_type": "code",
   "execution_count": 18,
   "metadata": {},
   "outputs": [
    {
     "name": "stdout",
     "output_type": "stream",
     "text": [
      "['first', 'list item', 21, 4, 5, 25, 'This', 'is', 'another', 'list']\n"
     ]
    }
   ],
   "source": [
    "list1 = [\"first\", \"list item\", 21, 4, 5, 25]\n",
    "list2 = [\"This\", \"is\", \"another\", \"list\"]\n",
    "list1.extend(list2)\n",
    "print(list1)"
   ]
  },
  {
   "cell_type": "markdown",
   "metadata": {},
   "source": [
    "## List insert() : Inserts Element to The List\n",
    "### list.insert(index, element) \n",
    "### index - position where an element needs to be inserted \n",
    "### element - this is the element to be inserted in the list\n"
   ]
  },
  {
   "cell_type": "code",
   "execution_count": 19,
   "metadata": {},
   "outputs": [
    {
     "name": "stdout",
     "output_type": "stream",
     "text": [
      "['first', 'list item', 21, 20, 4, 5, 25]\n"
     ]
    }
   ],
   "source": [
    "list1 = [\"first\", \"list item\", 21, 4, 5, 25]\n",
    "list1.insert(3,20)\n",
    "print(list1)"
   ]
  },
  {
   "cell_type": "markdown",
   "metadata": {},
   "source": [
    "## List remove() : Removes Element from the List\n",
    "### list.remove(element)"
   ]
  },
  {
   "cell_type": "code",
   "execution_count": 20,
   "metadata": {},
   "outputs": [
    {
     "name": "stdout",
     "output_type": "stream",
     "text": [
      "['first', 'list item', 21, 20, 5, 25]\n"
     ]
    }
   ],
   "source": [
    "list1 = [\"first\", \"list item\", 21, 20, 4, 5, 25]\n",
    "list1.remove(4)\n",
    "print(list1)"
   ]
  },
  {
   "cell_type": "markdown",
   "metadata": {},
   "source": [
    "## List index() : returns smallest index of element in list\n",
    "### list.index(element) \n",
    "### element - element that is to be searched.\n",
    " "
   ]
  },
  {
   "cell_type": "code",
   "execution_count": 21,
   "metadata": {},
   "outputs": [
    {
     "name": "stdout",
     "output_type": "stream",
     "text": [
      "4\n"
     ]
    }
   ],
   "source": [
    "list1 = [\"first\", \"list item\", 21, 20, 5, 25]\n",
    "print(list1.index(5))"
   ]
  },
  {
   "cell_type": "markdown",
   "metadata": {},
   "source": [
    "## List count() : returns occurrences of element in a list\n",
    "### list.count(element)"
   ]
  },
  {
   "cell_type": "code",
   "execution_count": 22,
   "metadata": {},
   "outputs": [
    {
     "name": "stdout",
     "output_type": "stream",
     "text": [
      "1\n"
     ]
    }
   ],
   "source": [
    "print(list1.count(5))"
   ]
  },
  {
   "cell_type": "markdown",
   "metadata": {},
   "source": [
    "## List pop() : Removes elements at given index\n",
    "### list.pop(index) \n",
    "### The pop() method removes the item at the given index from the list.\n"
   ]
  },
  {
   "cell_type": "code",
   "execution_count": 23,
   "metadata": {},
   "outputs": [
    {
     "name": "stdout",
     "output_type": "stream",
     "text": [
      "['first', 'list item', 21, 20, 25]\n"
     ]
    }
   ],
   "source": [
    "list1.pop(4)\n",
    "print(list1)"
   ]
  },
  {
   "cell_type": "markdown",
   "metadata": {},
   "source": [
    "## List reverse() : Reverses a List\n",
    "### list.reverse()"
   ]
  },
  {
   "cell_type": "code",
   "execution_count": 24,
   "metadata": {},
   "outputs": [
    {
     "name": "stdout",
     "output_type": "stream",
     "text": [
      "[25, 20, 21, 'list item', 'first']\n"
     ]
    }
   ],
   "source": [
    "list1.reverse()\n",
    "print(list1)"
   ]
  },
  {
   "cell_type": "markdown",
   "metadata": {},
   "source": [
    "## List copy() : Returns Shallow Copy of a List\n",
    "\n"
   ]
  },
  {
   "cell_type": "code",
   "execution_count": 25,
   "metadata": {},
   "outputs": [
    {
     "name": "stdout",
     "output_type": "stream",
     "text": [
      "['first', 'list item', 21, 20, 4, 5, 25]\n"
     ]
    }
   ],
   "source": [
    "list1 = [\"first\", \"list item\", 21, 20, 4, 5, 25]\n",
    "new_list = list1.copy()\n",
    "print(new_list)"
   ]
  },
  {
   "cell_type": "markdown",
   "metadata": {},
   "source": [
    "## List clear() : Removes all Items from the List\n",
    "### list.clear()"
   ]
  },
  {
   "cell_type": "code",
   "execution_count": 26,
   "metadata": {},
   "outputs": [
    {
     "name": "stdout",
     "output_type": "stream",
     "text": [
      "[]\n"
     ]
    }
   ],
   "source": [
    "list1.clear()\n",
    "print(list1)"
   ]
  },
  {
   "cell_type": "markdown",
   "metadata": {},
   "source": [
    "### List sort() : Sort the elements of list\n",
    "#### list.sort()"
   ]
  },
  {
   "cell_type": "code",
   "execution_count": 1,
   "metadata": {},
   "outputs": [
    {
     "name": "stdout",
     "output_type": "stream",
     "text": [
      "['G', 'F', 'A', 'C', 'B']\n",
      "['A', 'B', 'C', 'F', 'G']\n"
     ]
    }
   ],
   "source": [
    "list1 = ['G', 'F', 'A', 'C', 'B']\n",
    "print(list1) # print unsorted list\n",
    "list1.sort()\n",
    "print(list1) # print sorted array\n"
   ]
  },
  {
   "cell_type": "code",
   "execution_count": 2,
   "metadata": {},
   "outputs": [
    {
     "name": "stdout",
     "output_type": "stream",
     "text": [
      "[5, 9, 7, 4, 8]\n",
      "[4, 5, 7, 8, 9]\n"
     ]
    }
   ],
   "source": [
    "list2 = [5, 9, 7, 4, 8]\n",
    "print(list2) # print unsorted list\n",
    "list2.sort()\n",
    "print(list2) # print sorted array"
   ]
  },
  {
   "cell_type": "markdown",
   "metadata": {},
   "source": [
    "### List comprehensions : Syntax : [expresson  for  element  in  sequence  if  conditional]\n",
    "- List comprehension is used to create a new list from existing sequences. It is a tool for transforming a given list into another list.\n",
    "- Using list comprehension we can replace the loop with a single expression that produces the same result.\n",
    "- The syntax of list comprehension is based on set builder notation in mathematics. Set builder notation is a mathematial notationfor describing a set by stating its property that its members should satisfy. \n",
    "- The use of list comprehension requires lesser code and runs faster."
   ]
  },
  {
   "cell_type": "code",
   "execution_count": 4,
   "metadata": {},
   "outputs": [
    {
     "name": "stdout",
     "output_type": "stream",
     "text": [
      "[20, 30, 40, 50, 60]\n"
     ]
    }
   ],
   "source": [
    "# without list comprehension\n",
    "list1 = [10, 20, 30, 40, 50]\n",
    "for i in range (0, len(list1)):\n",
    "    list1[i] = list1[i] + 10\n",
    "print (list1)"
   ]
  },
  {
   "cell_type": "code",
   "execution_count": 5,
   "metadata": {},
   "outputs": [
    {
     "name": "stdout",
     "output_type": "stream",
     "text": [
      "[20, 30, 40, 50, 60]\n"
     ]
    }
   ],
   "source": [
    "# with list comprehension\n",
    "list1 = [10, 20, 30, 40, 50]\n",
    "list1 = [x+10 for x in list1]\n",
    "print (list1)"
   ]
  },
  {
   "cell_type": "code",
   "execution_count": 6,
   "metadata": {},
   "outputs": [
    {
     "name": "stdout",
     "output_type": "stream",
     "text": [
      "Content of list\n",
      "[1, 2, 3, 4, 5, 6, 7, 8, 9]\n",
      "[2, 4, 6, 8]\n"
     ]
    }
   ],
   "source": [
    "# Display even elements from one list\n",
    "list1 = [1,2,3,4,5,6,7,8,9]\n",
    "print(\"Content of list\")\n",
    "print(list1)\n",
    "list1 = [x for x in list1 if x%2 == 0]\n",
    "print(list1)"
   ]
  },
  {
   "cell_type": "markdown",
   "metadata": {},
   "source": [
    "### List and String\n",
    "- A string is a sequence of characters and list is a sequence of values. But the list of characters is not same as string.\n",
    "- To convert from string to a list of characters, we can use list method."
   ]
  },
  {
   "cell_type": "code",
   "execution_count": 7,
   "metadata": {},
   "outputs": [
    {
     "name": "stdout",
     "output_type": "stream",
     "text": [
      "python\n",
      "['p', 'y', 't', 'h', 'o', 'n']\n"
     ]
    }
   ],
   "source": [
    "p = 'python'\n",
    "print (p)\n",
    "l = list(p)\n",
    "print (l)"
   ]
  },
  {
   "cell_type": "markdown",
   "metadata": {},
   "source": [
    "### Splitting a string in a list : The str class contain the split method which is used to split a string in a list"
   ]
  },
  {
   "cell_type": "code",
   "execution_count": 8,
   "metadata": {},
   "outputs": [
    {
     "name": "stdout",
     "output_type": "stream",
     "text": [
      "['Wow!!!', 'Python', 'is', 'great']\n"
     ]
    }
   ],
   "source": [
    "A = \"Wow!!! Python is great\"\n",
    "B = A.split()\n",
    "print(B)"
   ]
  },
  {
   "cell_type": "markdown",
   "metadata": {},
   "source": [
    "### In order to remove the delimeter the split method can be called as split(delimeter). Delimeter specifies the character to be removed from the string."
   ]
  },
  {
   "cell_type": "code",
   "execution_count": 12,
   "metadata": {},
   "outputs": [
    {
     "name": "stdout",
     "output_type": "stream",
     "text": [
      "Welcome-to-the-world-of-python\n",
      "['Welcome', 'to', 'the', 'world', 'of', 'python']\n"
     ]
    }
   ],
   "source": [
    "P = \"Welcome-to-the-world-of-python\"\n",
    "print(P)\n",
    "print(P.split('-'))"
   ]
  },
  {
   "cell_type": "code",
   "execution_count": 14,
   "metadata": {},
   "outputs": [
    {
     "name": "stdout",
     "output_type": "stream",
     "text": [
      "Welcome.to.the.world.of.python\n",
      "['Welcome', 'to', 'the', 'world', 'of', 'python']\n"
     ]
    }
   ],
   "source": [
    "P = \"Welcome.to.the.world.of.python\"\n",
    "print(P)\n",
    "print(P.split('.'))"
   ]
  },
  {
   "cell_type": "markdown",
   "metadata": {},
   "source": [
    "# Tuples Data Type\n",
    "###  Sequence data type that is similar to the list, consists of a number of values separated by commas.\n",
    "### The main differences between lists and tuples are: \n",
    "- Lists are enclosed in brackets ( [ ] ) Tuples are enclosed in parentheses ( ( ) ) and cannot be updated.\n",
    "- List are mutable but tuples are immutable, i.e. once created we can not add, delete, or even cann't shuffle their order.  "
   ]
  },
  {
   "cell_type": "code",
   "execution_count": 14,
   "metadata": {},
   "outputs": [
    {
     "name": "stdout",
     "output_type": "stream",
     "text": [
      "('Python', 'Programming', 2310, 4491)\n",
      "(1, 2, 3, 4, 5)\n",
      "('a', 'b', 'c', 'd', 'e')\n"
     ]
    }
   ],
   "source": [
    "#tuple example1\n",
    "tuple1 = ('Python', 'Programming', 2310, 4491)\n",
    "tuple2 = (1, 2, 3, 4, 5)\n",
    "tuple3 = ('a', 'b', 'c', 'd', 'e')\n",
    "print(tuple1)\n",
    "print(tuple2)\n",
    "print(tuple3)"
   ]
  },
  {
   "cell_type": "code",
   "execution_count": 16,
   "metadata": {},
   "outputs": [
    {
     "name": "stdout",
     "output_type": "stream",
     "text": [
      "('Python', 'Programming', 2310, 4491)\n",
      "('Programming', 2310, 4491)\n",
      "('Programming', 2310, 4491)\n",
      "Python\n",
      "('Python', 'Programming')\n",
      "('Python', 'Programming', 2310, 4491, 'Python', 'Programming', 2310, 4491)\n",
      "('Python', 'Programming', 2310, 4491, 1, 2, 3, 4, 5)\n"
     ]
    }
   ],
   "source": [
    "#tuple example2\n",
    "tuple1 = ('Python', 'Programming', 2310, 4491)\n",
    "tuple2 = (1, 2, 3, 4, 5)\n",
    "print(tuple1)\n",
    "print(tuple1[1:4])\n",
    "print(tuple1[1: ])\n",
    "print(tuple1[0])\n",
    "print(tuple1[ : -2])\n",
    "print(tuple1 * 2)\n",
    "print(tuple1 + tuple2)"
   ]
  },
  {
   "cell_type": "markdown",
   "metadata": {},
   "source": [
    "# Tuples Built_In_Methods"
   ]
  },
  {
   "cell_type": "markdown",
   "metadata": {},
   "source": [
    "## Tuple count() : returns occurrences of element in a tuple\n",
    "### tuple.count(element)"
   ]
  },
  {
   "cell_type": "code",
   "execution_count": 29,
   "metadata": {},
   "outputs": [
    {
     "name": "stdout",
     "output_type": "stream",
     "text": [
      "2\n"
     ]
    }
   ],
   "source": [
    "tuple1 = ('Python', 'Programming', 2310,'Python', 4491)\n",
    "print(tuple1.count('Python'))"
   ]
  },
  {
   "cell_type": "markdown",
   "metadata": {},
   "source": [
    "## Tuple index() : returns smallest index of element in tuple \n",
    "### tuple.index(element) \n",
    "### The index method returns the position/index of the given element in the tuple.\n",
    " "
   ]
  },
  {
   "cell_type": "code",
   "execution_count": 30,
   "metadata": {},
   "outputs": [
    {
     "name": "stdout",
     "output_type": "stream",
     "text": [
      "0\n"
     ]
    }
   ],
   "source": [
    "tuple1 = ('Python', 'Programming', 2310,'Python', 4491)\n",
    "print(tuple1.index('Python'))"
   ]
  },
  {
   "cell_type": "markdown",
   "metadata": {},
   "source": [
    "### Other methods like len(), max(), min(), sum(), count()"
   ]
  },
  {
   "cell_type": "code",
   "execution_count": 21,
   "metadata": {},
   "outputs": [
    {
     "name": "stdout",
     "output_type": "stream",
     "text": [
      "5\n",
      "5\n",
      "1\n",
      "15\n",
      "2\n"
     ]
    }
   ],
   "source": [
    "tuple1 = ('Python', 'Programming', 2310,'Python', 4491)\n",
    "tuple2 = (1, 2, 3, 4, 5)\n",
    "print(len(tuple1))\n",
    "print(max(tuple2))\n",
    "print(min(tuple2))\n",
    "print(sum(tuple2))\n",
    "print(tuple1.count(\"Python\"))"
   ]
  },
  {
   "cell_type": "markdown",
   "metadata": {},
   "source": [
    "### List and Tuples : A tuple can also be created from a list."
   ]
  },
  {
   "cell_type": "code",
   "execution_count": 22,
   "metadata": {},
   "outputs": [
    {
     "name": "stdout",
     "output_type": "stream",
     "text": [
      "[1, 2, 3, 4]\n",
      "<class 'list'>\n",
      "(1, 2, 3, 4)\n",
      "<class 'tuple'>\n"
     ]
    }
   ],
   "source": [
    "list1 = [1,2,3,4]\n",
    "print(list1)\n",
    "print(type(list1))\n",
    "t1 = tuple(list1)\n",
    "print(t1)\n",
    "print(type(t1))"
   ]
  },
  {
   "cell_type": "markdown",
   "metadata": {},
   "source": [
    "### The zip() function\n",
    "- The zip is an inbuilt function in python. It takes items in sequence from a number of collections to make a list of tuples, where each tuple contains one item from each collection.\n",
    "- This function is often used to group items from a list which has the same index."
   ]
  },
  {
   "cell_type": "code",
   "execution_count": 24,
   "metadata": {},
   "outputs": [
    {
     "name": "stdout",
     "output_type": "stream",
     "text": [
      "[(1, 'X'), (2, 'Y'), (3, 'Z')]\n",
      "[(1, 'X', 'Black'), (2, 'Y', 'White'), (3, 'Z', 'Gray')]\n"
     ]
    }
   ],
   "source": [
    "A1 = [1,2,3]\n",
    "A2 = \"XYZ\"\n",
    "A3 = ['Black', 'White', 'Gray']\n",
    "print(list(zip(A1,A2)))\n",
    "print(list(zip(A1,A2,A3)))"
   ]
  },
  {
   "cell_type": "markdown",
   "metadata": {},
   "source": [
    "### The inverse zip function\n",
    "- The * operator is used within zip() function. The * operator unpack a sequence into positional arguments. "
   ]
  },
  {
   "cell_type": "code",
   "execution_count": 25,
   "metadata": {},
   "outputs": [
    {
     "name": "stdout",
     "output_type": "stream",
     "text": [
      "('APPLE', 'DELL')\n",
      "(55000, 30000)\n"
     ]
    }
   ],
   "source": [
    "X = [(\"APPLE\", 55000), (\"DELL\",30000)]\n",
    "laptop,prize = zip(*X)\n",
    "print(laptop)\n",
    "print(prize)"
   ]
  },
  {
   "cell_type": "code",
   "execution_count": 30,
   "metadata": {},
   "outputs": [
    {
     "name": "stdout",
     "output_type": "stream",
     "text": [
      "[(1, 2), (3, 4), (5, 6)]\n",
      "((1, 3, 5), (2, 4, 6))\n"
     ]
    }
   ],
   "source": [
    "matrix = [(1,2),(3,4),(5,6)]\n",
    "print(matrix)\n",
    "x = zip(*matrix)\n",
    "print(tuple(x))"
   ]
  },
  {
   "cell_type": "markdown",
   "metadata": {},
   "source": [
    "# Dictionary Data type : \n",
    "### Dictionaries are enclosed by curly braces ({ }) and values can be assigned and accessed using square braces([]). \n",
    "#### Lists organise their elements by position and this kind of structuring is useful when we want to locate elements in a specific order or sequence.\n",
    "#### There may be situation where a programmer is not so much interested in the position of the item in the structure but in association of that element with some other element in the structure\n",
    "#### A dictionory is a collection that stores values along with keys. The sequence of such key and value pairs is seperated by commas. \n",
    "#### Key is like index operation in a dictionary"
   ]
  },
  {
   "cell_type": "code",
   "execution_count": 31,
   "metadata": {},
   "outputs": [
    {
     "name": "stdout",
     "output_type": "stream",
     "text": [
      "{'name': 'Akshat', 'id': 3028, 'branch': 'CS'}\n",
      "dict_keys(['name', 'id', 'branch'])\n",
      "dict_values(['Akshat', 3028, 'CS'])\n"
     ]
    }
   ],
   "source": [
    "# Dictionary Creation Example1\n",
    "first_dictionary = {'name': 'Akshat', 'id': 3028, 'branch': 'CS'}\n",
    "print(first_dictionary)\n",
    "print(first_dictionary.keys())\n",
    "print(first_dictionary.values())"
   ]
  },
  {
   "cell_type": "code",
   "execution_count": 31,
   "metadata": {},
   "outputs": [
    {
     "name": "stdout",
     "output_type": "stream",
     "text": [
      "{'name': 'Akshat', 'id': 3028, 'branch': 'CS'}\n"
     ]
    }
   ],
   "source": [
    "# Dictionary Creation Example2\n",
    "D2 = {}\n",
    "D2['name'] = 'Akshat'\n",
    "D2['id'] = 3028\n",
    "D2['branch'] = 'CS'\n",
    "print(D2)"
   ]
  },
  {
   "cell_type": "code",
   "execution_count": 38,
   "metadata": {},
   "outputs": [
    {
     "name": "stdout",
     "output_type": "stream",
     "text": [
      "{'name': 'Akshat', 'id': 3028, 'branch': 'CS'}\n"
     ]
    }
   ],
   "source": [
    "# Dictionary Creation Example3\n",
    "D3 = dict(name = 'Akshat', id = 3028, branch = 'CS')\n",
    "print(D3)"
   ]
  },
  {
   "cell_type": "markdown",
   "metadata": {},
   "source": [
    "### Adding and Replacing Values : Dictionary_name[Key] = value"
   ]
  },
  {
   "cell_type": "code",
   "execution_count": 39,
   "metadata": {},
   "outputs": [
    {
     "name": "stdout",
     "output_type": "stream",
     "text": [
      "{'name': 'Ram', 'id': 3028, 'branch': 'CS'}\n",
      "{'name': 'Ram', 'id': 3028, 'branch': 'CS', 'section': 1}\n"
     ]
    }
   ],
   "source": [
    "D3 ['name'] = 'Ram'\n",
    "print(D3)\n",
    "D3 ['section'] = 1\n",
    "print(D3)"
   ]
  },
  {
   "cell_type": "markdown",
   "metadata": {},
   "source": [
    "### Retrieving values : Retrieve the value with key - Dictionary_name[key]"
   ]
  },
  {
   "cell_type": "code",
   "execution_count": 40,
   "metadata": {},
   "outputs": [
    {
     "name": "stdout",
     "output_type": "stream",
     "text": [
      "Ram\n",
      "3028\n"
     ]
    }
   ],
   "source": [
    "print(D3['name'])\n",
    "print(D3['id'])"
   ]
  },
  {
   "cell_type": "markdown",
   "metadata": {},
   "source": [
    "### Deleting items: del dictionary_name[key]"
   ]
  },
  {
   "cell_type": "code",
   "execution_count": 41,
   "metadata": {},
   "outputs": [
    {
     "name": "stdout",
     "output_type": "stream",
     "text": [
      "{'name': 'Ram', 'id': 3028, 'branch': 'CS'}\n"
     ]
    }
   ],
   "source": [
    "del D3['section']\n",
    "print(D3)"
   ]
  },
  {
   "cell_type": "markdown",
   "metadata": {},
   "source": [
    "### Comparing two dictionaries : The == operator is used to test if two dictionaries contain the same items. The != operator returns True if the items within dictionaries are not the same."
   ]
  },
  {
   "cell_type": "code",
   "execution_count": 43,
   "metadata": {},
   "outputs": [
    {
     "name": "stdout",
     "output_type": "stream",
     "text": [
      "{'I': 'India', 'A': 'America'}\n",
      "{'I': 'Italy', 'A': 'America'}\n",
      "False\n",
      "True\n"
     ]
    }
   ],
   "source": [
    "A= {'I':'India','A':'America'}\n",
    "print(A)\n",
    "B= {'I':'Italy','A':'America'}\n",
    "print(B)\n",
    "print(A==B)\n",
    "print(A!=B)"
   ]
  },
  {
   "cell_type": "markdown",
   "metadata": {},
   "source": [
    "### Methods of dict class\n",
    "- keys() : Returns a sequence of keys\n",
    "- values() : Returns a sequence of values\n",
    "- items () : Returns a sequence of tuples\n",
    "- clear() : Deletes all entries\n",
    "- get(key) : Returns the value for a key\n",
    "- pop(key) : Removes a key and returns the value if the key exist"
   ]
  },
  {
   "cell_type": "code",
   "execution_count": 49,
   "metadata": {},
   "outputs": [
    {
     "name": "stdout",
     "output_type": "stream",
     "text": [
      "dict_keys(['name', 'id', 'branch'])\n",
      "dict_values(['Akshat', 3028, 'CS'])\n",
      "dict_items([('name', 'Akshat'), ('id', 3028), ('branch', 'CS')])\n",
      "Akshat\n",
      "CS\n",
      "{'name': 'Akshat', 'id': 3028}\n",
      "{}\n"
     ]
    }
   ],
   "source": [
    "D = {'name': 'Akshat', 'id': 3028, 'branch': 'CS'}\n",
    "print(D.keys())\n",
    "print(D.values())\n",
    "print(D.items())\n",
    "print(D.get('name'))\n",
    "print(D.pop('branch'))\n",
    "print(D)\n",
    "D.clear()\n",
    "print(D)"
   ]
  },
  {
   "cell_type": "markdown",
   "metadata": {},
   "source": [
    "### Traversing Dictionaries"
   ]
  },
  {
   "cell_type": "code",
   "execution_count": 53,
   "metadata": {},
   "outputs": [
    {
     "name": "stdout",
     "output_type": "stream",
     "text": [
      "Tanmay : A\n",
      "Richa : B\n",
      "Rohan : C\n"
     ]
    }
   ],
   "source": [
    "grades = {'Tanmay':'A','Richa':'B','Rohan':'C'}\n",
    "for i in grades:\n",
    "    print(i,':', grades[i])"
   ]
  },
  {
   "cell_type": "markdown",
   "metadata": {},
   "source": [
    "### Nested Dictionaries : A dictionary within other dictionary is called a nested dictionary."
   ]
  },
  {
   "cell_type": "code",
   "execution_count": 54,
   "metadata": {},
   "outputs": [
    {
     "name": "stdout",
     "output_type": "stream",
     "text": [
      "{'Rajesh': {'Maths': 45, 'Science': 56}, 'Satish': {'Maths': 69, 'Science': 72}}\n"
     ]
    }
   ],
   "source": [
    "student = {\"Rajesh\": {\"Maths\" : 45, \"Science\": 56}, \"Satish\" : {\"Maths\" : 69, \"Science\": 72}}\n",
    "print(student)"
   ]
  },
  {
   "cell_type": "markdown",
   "metadata": {},
   "source": [
    "# Determine Variable's Type in Python\n"
   ]
  },
  {
   "cell_type": "markdown",
   "metadata": {},
   "source": [
    "### You can use the function type() available in Python, to determine the type of variable in Python."
   ]
  },
  {
   "cell_type": "code",
   "execution_count": 37,
   "metadata": {},
   "outputs": [
    {
     "name": "stdout",
     "output_type": "stream",
     "text": [
      "<class 'int'>\n",
      "<class 'float'>\n",
      "<class 'bool'>\n",
      "<class 'str'>\n",
      "<class 'list'>\n",
      "<class 'tuple'>\n",
      "<class 'dict'>\n"
     ]
    }
   ],
   "source": [
    "i = 10\n",
    "print (type(i))\n",
    "f = 53.4\n",
    "print (type(f))\n",
    "b = True\n",
    "print (type(b))\n",
    "str1 = \"Python data types\"\n",
    "print (type(str1))\n",
    "list1 = ['Rahul','Allahabad','23']\n",
    "print (type(list1))\n",
    "tuple1 = ('Ram', 3020, 'Delhi', 32)\n",
    "print (type(tuple1))\n",
    "dict1 = {'name': 'Akshat', 'id': 3028, 'branch': 'CS'}\n",
    "print (type(dict1))"
   ]
  },
  {
   "cell_type": "markdown",
   "metadata": {},
   "source": [
    "# Functions:\n",
    "### 1. In Python, function is a group of related statements that perform a specific task.\n",
    "### 2.  Functions help break our program into smaller and modular chunks. As our program grows larger and larger, functions make it more organized and manageable.\n"
   ]
  },
  {
   "cell_type": "markdown",
   "metadata": {},
   "source": [
    "## Defining a Function\n",
    "### 1. Keyword def is used to start the Function Definition. Def specifies the starting of Function block.\n",
    "### 2. def is followed by function-name followed by parenthesis.\n",
    "### 3. Parameters are passed inside the parenthesis. At the end a colon is marked. E.g. def sum(a,b): \n",
    "### 4.  Before writing a code, an Indentation is provided before every statement. It should be same for all statements inside the function."
   ]
  },
  {
   "cell_type": "markdown",
   "metadata": {},
   "source": [
    "## Calling a function\n",
    "### To execute a function it needs to be called. This is called function calling.\n",
    "### eg: sum(a,b)  "
   ]
  },
  {
   "cell_type": "code",
   "execution_count": 38,
   "metadata": {},
   "outputs": [
    {
     "name": "stdout",
     "output_type": "stream",
     "text": [
      "Name : Ram\n",
      "Age : 27\n"
     ]
    }
   ],
   "source": [
    "#Function Definition\n",
    "def printinfo(name, age):\n",
    "    print(\"Name :\", name)\n",
    "    print(\"Age :\", age)\n",
    "printinfo(\"Ram\",\"27\")"
   ]
  }
 ],
 "metadata": {
  "kernelspec": {
   "display_name": "Python 3",
   "language": "python",
   "name": "python3"
  },
  "language_info": {
   "codemirror_mode": {
    "name": "ipython",
    "version": 3
   },
   "file_extension": ".py",
   "mimetype": "text/x-python",
   "name": "python",
   "nbconvert_exporter": "python",
   "pygments_lexer": "ipython3",
   "version": "3.7.4"
  }
 },
 "nbformat": 4,
 "nbformat_minor": 2
}
