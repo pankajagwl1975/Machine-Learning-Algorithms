{
 "cells": [
  {
   "cell_type": "markdown",
   "metadata": {},
   "source": [
    "# Python Collections (Arrays)\n",
    "\n",
    "There are four collection data types in the Python programming language:\n",
    "\n",
    "-List is a collection which is ordered and changeable. Allows duplicate members.\n",
    "\n",
    "-Tuple is a collection which is ordered and unchangeable. Allows duplicate members.\n",
    "\n",
    "-Set is a collection which is unordered and unindexed. No duplicate members.\n",
    "\n",
    "-Dictionary is a collection which is unordered, changeable and indexed. No duplicate members.\n",
    "\n",
    "When choosing a collection type, it is useful to understand the properties of that type. Choosing the right type for a particular data set could mean retention of meaning, and, it could mean an increase in efficiency or security.\n"
   ]
  },
  {
   "cell_type": "code",
   "execution_count": 1,
   "metadata": {},
   "outputs": [
    {
     "name": "stdout",
     "output_type": "stream",
     "text": [
      "String:  abcdefghijklmnopqrstuvwxyzABCDEFGHIJKLMNOPQRSTUVWXYZ\n",
      "\n",
      "Lists:  ['a', 'b', 'c', 'd', 'e', 'f', 'g', 'h', 'i', 'j', 'k', 'l', 'm', 'n', 'o', 'p', 'q', 'r', 's', 't', 'u', 'v', 'w', 'x', 'y', 'z', 'A', 'B', 'C', 'D', 'E', 'F', 'G', 'H', 'I', 'J', 'K', 'L', 'M', 'N', 'O', 'P', 'Q', 'R', 'S', 'T', 'U', 'V', 'W', 'X', 'Y', 'Z']\n",
      "\n",
      "Tuples:  ('a', 'b', 'c', 'd', 'e', 'f', 'g', 'h', 'i', 'j', 'k', 'l', 'm', 'n', 'o', 'p', 'q', 'r', 's', 't', 'u', 'v', 'w', 'x', 'y', 'z', 'A', 'B', 'C', 'D', 'E', 'F', 'G', 'H', 'I', 'J', 'K', 'L', 'M', 'N', 'O', 'P', 'Q', 'R', 'S', 'T', 'U', 'V', 'W', 'X', 'Y', 'Z')\n",
      "\n",
      "Sets:  {'c', 'j', 'k', 'Y', 'd', 'M', 'i', 'm', 't', 'K', 'z', 'Z', 'T', 'v', 'u', 'a', 'C', 'S', 'L', 'R', 'A', 'h', 'p', 'F', 'q', 'w', 'N', 'r', 'O', 'x', 'Q', 'V', 'l', 'U', 'W', 'f', 'X', 'H', 'b', 's', 'P', 'g', 'n', 'I', 'J', 'e', 'E', 'o', 'D', 'G', 'B', 'y'}\n"
     ]
    }
   ],
   "source": [
    "letters = 'abcdefghijklmnopqrstuvwxyzABCDEFGHIJKLMNOPQRSTUVWXYZ'\n",
    "\n",
    "string_letters = str(letters)\n",
    "lists_letters = list(letters)\n",
    "tuples_letters = tuple(letters)\n",
    "sets_letters = set(letters)\n",
    "\n",
    "\n",
    "print(\"String: \", string_letters)\n",
    "print() # for new line\n",
    "print(\"Lists: \", lists_letters)\n",
    "print() # for new line\n",
    "print(\"Tuples: \", tuples_letters)\n",
    "print() # for new line\n",
    "print(\"Sets: \", sets_letters)"
   ]
  },
  {
   "cell_type": "markdown",
   "metadata": {},
   "source": [
    "lists and tuples, they are in same order as they are specified intially. And these data structures guarantee this order. So strings, lists and tuples are ordered collections of objects.\n",
    "\n",
    "If we look at the result of sets and dictionary, initial order, the order in which we specified the elements, is not maintained. So sets and dictionaries are unordered collections of objects."
   ]
  },
  {
   "cell_type": "markdown",
   "metadata": {},
   "source": [
    "# List\n",
    "A list in Python is used to store the sequence of various types of data. Python lists are mutable type its mean we can modify its element after it created. However, Python consists of six data-types that are capable to store the sequences, but the most common and reliable type is the list.\n",
    "\n",
    "A list can be defined as a collection of values or items of different types. The items in the list are separated with the comma (,) and enclosed with the square brackets [].\n"
   ]
  },
  {
   "cell_type": "code",
   "execution_count": null,
   "metadata": {},
   "outputs": [],
   "source": [
    "#List items can be of any data type:\n",
    "list1 = [\"apple\", \"banana\", \"cherry\"]\n",
    "list2 = [1, 5, 7, 9, 3]\n",
    "list3 = [True, False, False]\n",
    "list1 = [\"abc\", 34, True, 40, \"male\"]"
   ]
  },
  {
   "cell_type": "code",
   "execution_count": null,
   "metadata": {},
   "outputs": [],
   "source": [
    "mylist = [\"apple\", \"banana\", \"cherry\"]\n",
    "print(type(mylist))"
   ]
  },
  {
   "cell_type": "code",
   "execution_count": 2,
   "metadata": {},
   "outputs": [
    {
     "name": "stdout",
     "output_type": "stream",
     "text": [
      "[1, 2, 'Peter', 4.5, 'Ricky', 5, 6] [1, 2, 5, 'Peter', 4.5, 'Ricky', 6]\n"
     ]
    },
    {
     "data": {
      "text/plain": [
       "False"
      ]
     },
     "execution_count": 2,
     "metadata": {},
     "output_type": "execute_result"
    }
   ],
   "source": [
    "#Lists are ordered\n",
    "a = [1,2,\"Peter\",4.50,\"Ricky\",5,6]  \n",
    "b = [1,2,5,\"Peter\",4.50,\"Ricky\",6]\n",
    "print(a,b)\n",
    "a ==b  "
   ]
  },
  {
   "cell_type": "markdown",
   "metadata": {},
   "source": [
    "### Ordered\n",
    "\n",
    "When we say that lists are ordered, it means that the items have a defined order, and that order will not change.\n",
    "\n",
    "If you add new items to a list, the new items will be placed at the end of the list."
   ]
  },
  {
   "cell_type": "code",
   "execution_count": 3,
   "metadata": {},
   "outputs": [
    {
     "name": "stdout",
     "output_type": "stream",
     "text": [
      "[1, 2, 'Peter', 4.5, 'Ricky', 5, 6, 'new item']\n"
     ]
    }
   ],
   "source": [
    "a.append(\"new item\")\n",
    "print(a)"
   ]
  },
  {
   "cell_type": "code",
   "execution_count": 4,
   "metadata": {},
   "outputs": [
    {
     "name": "stdout",
     "output_type": "stream",
     "text": [
      "['apple', 'banana', 'cherry', 'apple', 'cherry']\n"
     ]
    }
   ],
   "source": [
    "#Allow Duplicates\n",
    "#Since lists are indexed, lists can have items with the same value:\n",
    "\n",
    "thislist = [\"apple\", \"banana\", \"cherry\", \"apple\", \"cherry\"]\n",
    "print(thislist)"
   ]
  },
  {
   "cell_type": "code",
   "execution_count": 5,
   "metadata": {},
   "outputs": [
    {
     "name": "stdout",
     "output_type": "stream",
     "text": [
      "3\n"
     ]
    }
   ],
   "source": [
    "#List Length\n",
    "#To determine how many items a list has, use the len() function:\n",
    "\n",
    "thislist = [\"apple\", \"banana\", \"cherry\"]\n",
    "print(len(thislist))"
   ]
  },
  {
   "cell_type": "code",
   "execution_count": null,
   "metadata": {},
   "outputs": [],
   "source": [
    "#The list() Constructor\n",
    "#It is also possible to use the list() constructor when creating a new list.\n",
    "thislist = list((\"apple\", \"banana\", \"cherry\")) # note the double round-brackets\n",
    "print(thislist)"
   ]
  },
  {
   "cell_type": "code",
   "execution_count": null,
   "metadata": {},
   "outputs": [],
   "source": [
    "#access the items\n",
    "thislist = [\"apple\", \"banana\", \"cherry\"]\n",
    "print(thislist[1])"
   ]
  },
  {
   "cell_type": "markdown",
   "metadata": {},
   "source": [
    "Negative Indexing\n",
    "\n",
    "Negative indexing means start from the end\n",
    "\n",
    "-1 refers to the last item, -2 refers to the second last item etc."
   ]
  },
  {
   "cell_type": "markdown",
   "metadata": {},
   "source": [
    "### Range of Indexes\n",
    "\n",
    "You can specify a range of indexes by specifying where to start and where to end the range.\n",
    "\n",
    "When specifying a range, the return value will be a new list with the specified items.\n",
    "\n",
    "Example"
   ]
  },
  {
   "cell_type": "code",
   "execution_count": null,
   "metadata": {},
   "outputs": [],
   "source": [
    "thislist = [\"apple\", \"banana\", \"cherry\", \"orange\", \"kiwi\", \"melon\", \"mango\"]\n",
    "print(thislist[2:5])"
   ]
  },
  {
   "cell_type": "code",
   "execution_count": 6,
   "metadata": {},
   "outputs": [
    {
     "data": {
      "text/plain": [
       "['pankaj', 20.5, 'A']"
      ]
     },
     "execution_count": 6,
     "metadata": {},
     "output_type": "execute_result"
    }
   ],
   "source": [
    "ex=[10,'pankaj',20.5,'A']\n",
    "ex[2]\n",
    "ex[1:4]"
   ]
  },
  {
   "cell_type": "code",
   "execution_count": 7,
   "metadata": {},
   "outputs": [
    {
     "name": "stdout",
     "output_type": "stream",
     "text": [
      "9\n",
      "[7, 8, 9]\n",
      "[1, 2, 3, 4, 5, 6, 7, 8]\n",
      "[7, 8]\n"
     ]
    }
   ],
   "source": [
    "list = [1,2,3,4,5,6,7,8,9]  \n",
    "print(list[-1])  \n",
    "print(list[-3:])  \n",
    "print(list[:-1])  \n",
    "print(list[-3:-1])  "
   ]
  },
  {
   "cell_type": "code",
   "execution_count": 8,
   "metadata": {},
   "outputs": [
    {
     "name": "stdout",
     "output_type": "stream",
     "text": [
      "[1, 2, 3, 4, 5, 6, 7, 8, 9]\n",
      "[1, 2, -1, 4, 5, 6, 7, 8, 9]\n",
      "[1, 'A', 'C', 4, 5, 6, 7, 8, 9]\n",
      "[1, 'A', 'C', 4, 5, 6, 7, 8, 25]\n"
     ]
    }
   ],
   "source": [
    "list = [1, 2, 3, 4, 5, 6,7,8,9]     \n",
    "print(list)     \n",
    "# It will assign value to the value to the second index   \n",
    "list[2] = -1   \n",
    "print(list)    \n",
    "# Adding multiple-element   \n",
    "list[1:3] = ['A', 'C']     \n",
    "print(list)   \n",
    "# It will add value at the end of the list  \n",
    "list[-1] = 25  \n",
    "print(list)  "
   ]
  },
  {
   "cell_type": "code",
   "execution_count": 11,
   "metadata": {},
   "outputs": [
    {
     "data": {
      "text/plain": [
       "[1, 'A', 'C', 4, 5, 7, 8]"
      ]
     },
     "execution_count": 11,
     "metadata": {},
     "output_type": "execute_result"
    }
   ],
   "source": [
    "del list[5]\n",
    "list"
   ]
  },
  {
   "cell_type": "code",
   "execution_count": 25,
   "metadata": {},
   "outputs": [],
   "source": [
    "l1 = [1, 2, 3, 4]\n",
    "l2 = [5, 6, 7, 8]"
   ]
  },
  {
   "cell_type": "code",
   "execution_count": 34,
   "metadata": {},
   "outputs": [
    {
     "name": "stdout",
     "output_type": "stream",
     "text": [
      "[1, 2, 3, 4, 5, 6, 7, 8]\n",
      "[5, 6, 7, 8, 5, 6, 7, 8]\n",
      "[1, 2, 3, 4, 5, 6, 7, 8, 9]\n",
      "[1, 3, 4, 5, 6, 7, 8, 9]\n",
      "9\n",
      "1\n"
     ]
    }
   ],
   "source": [
    "l3=l1+l2\n",
    "print(l3)\n",
    "print(l2*2)\n",
    "l3.append(9)\n",
    "print(l3)\n",
    "l3.remove(2)\n",
    "print(l3)\n",
    "print(max(l3))\n",
    "print(min(l3))"
   ]
  },
  {
   "cell_type": "code",
   "execution_count": 19,
   "metadata": {},
   "outputs": [
    {
     "name": "stdout",
     "output_type": "stream",
     "text": [
      "1\n",
      "2\n",
      "3\n",
      "4\n",
      "5\n",
      "6\n",
      "7\n",
      "8\n"
     ]
    }
   ],
   "source": [
    "for i in l3:\n",
    "    print(i)"
   ]
  },
  {
   "cell_type": "code",
   "execution_count": 20,
   "metadata": {},
   "outputs": [
    {
     "data": {
      "text/plain": [
       "8"
      ]
     },
     "execution_count": 20,
     "metadata": {},
     "output_type": "execute_result"
    }
   ],
   "source": [
    "len(l3)"
   ]
  },
  {
   "cell_type": "code",
   "execution_count": 21,
   "metadata": {},
   "outputs": [
    {
     "name": "stdout",
     "output_type": "stream",
     "text": [
      "[43, 98, 34, 17, 47, 49, 89, 5, 62]\n"
     ]
    }
   ],
   "source": [
    "import random\n",
    "L=[]\n",
    "for i in range(1,10):\n",
    "    item=random.randrange(100)\n",
    "    L.append(item)\n",
    "print(L)"
   ]
  },
  {
   "cell_type": "code",
   "execution_count": 40,
   "metadata": {},
   "outputs": [
    {
     "name": "stdout",
     "output_type": "stream",
     "text": [
      "[2, 3, 1, 6, 7, 5, 4, 9, 0]\n"
     ]
    }
   ],
   "source": [
    "#Write the program to remove the duplicate element of the list.\n",
    "L1=[2,3,1,3,2,6,7,7,5,4,5,6,7,9,0,2,1,4,0]\n",
    "L2=[]\n",
    "for i in L1:\n",
    "    if i not in L2:\n",
    "        L2.append(i)\n",
    "print(L2)"
   ]
  },
  {
   "cell_type": "code",
   "execution_count": 41,
   "metadata": {},
   "outputs": [
    {
     "name": "stdout",
     "output_type": "stream",
     "text": [
      "[30, 50]\n"
     ]
    }
   ],
   "source": [
    "#Write the program to find the lists consist of at least one common element.\n",
    "L1=[10,30,50,80,100]\n",
    "L2=[20,30,50,90,200]\n",
    "L3=[]\n",
    "for i in L1:\n",
    "    for j in L2:\n",
    "        if i==j:\n",
    "            L3.append(i)\n",
    "print(L3)\n",
    "        \n",
    "        "
   ]
  },
  {
   "cell_type": "code",
   "execution_count": 70,
   "metadata": {},
   "outputs": [
    {
     "name": "stdout",
     "output_type": "stream",
     "text": [
      "[20, 10, 50, 30, 40, 90, 80]\n",
      "[10, 20, 30, 40, 50, 80, 90]\n"
     ]
    }
   ],
   "source": [
    "X=[20,10,50,30,40,90,80]\n",
    "print(X)\n",
    "X.sort()\n",
    "print(X)"
   ]
  },
  {
   "cell_type": "markdown",
   "metadata": {},
   "source": [
    "# Tuples\n",
    "Python Tuple is used to store the sequence of immutable Python objects. A tuple can be written as the collection of comma-separated (,) values enclosed with the small () brackets.he parentheses are optional but it is good practice to use. A tuple is indexed in the same way as the lists. The items in the tuple can be accessed by using their specific index value."
   ]
  },
  {
   "cell_type": "code",
   "execution_count": 42,
   "metadata": {},
   "outputs": [
    {
     "data": {
      "text/plain": [
       "('pankaj', 10000, 'X', 10.24)"
      ]
     },
     "execution_count": 42,
     "metadata": {},
     "output_type": "execute_result"
    }
   ],
   "source": [
    "T=('pankaj',10000,'X',10.24)\n",
    "T"
   ]
  },
  {
   "cell_type": "code",
   "execution_count": 43,
   "metadata": {},
   "outputs": [
    {
     "data": {
      "text/plain": [
       "(10, 20, 30, 40, 50)"
      ]
     },
     "execution_count": 43,
     "metadata": {},
     "output_type": "execute_result"
    }
   ],
   "source": [
    "T=10,20,30,40,50\n",
    "T"
   ]
  },
  {
   "cell_type": "code",
   "execution_count": null,
   "metadata": {},
   "outputs": [],
   "source": [
    "T=()  # empty tuple"
   ]
  },
  {
   "cell_type": "code",
   "execution_count": 46,
   "metadata": {},
   "outputs": [],
   "source": [
    "#Creating a tuple with single element is slightly different. \n",
    "#We will need to put comma after the element to declare the tuple.\n",
    "T=('pankaj',) # tuple with single element"
   ]
  },
  {
   "cell_type": "code",
   "execution_count": 47,
   "metadata": {},
   "outputs": [
    {
     "data": {
      "text/plain": [
       "('pankaj',)"
      ]
     },
     "execution_count": 47,
     "metadata": {},
     "output_type": "execute_result"
    }
   ],
   "source": [
    "T"
   ]
  },
  {
   "cell_type": "code",
   "execution_count": 48,
   "metadata": {},
   "outputs": [
    {
     "name": "stdout",
     "output_type": "stream",
     "text": [
      "(10, 20, 30, 40, 50, 60)\n",
      "tuple1[0] = 10\n",
      "tuple1[1] = 20\n",
      "tuple1[2] = 30\n",
      "tuple1[3] = 40\n",
      "tuple1[4] = 50\n",
      "tuple1[5] = 60\n"
     ]
    }
   ],
   "source": [
    "tuple1 = (10, 20, 30, 40, 50, 60)    \n",
    "print(tuple1)    \n",
    "count = 0    \n",
    "for i in tuple1:    \n",
    "    print(\"tuple1[%d] = %d\"%(count, i))   \n",
    "    count = count+1  "
   ]
  },
  {
   "cell_type": "code",
   "execution_count": 52,
   "metadata": {},
   "outputs": [
    {
     "data": {
      "text/plain": [
       "(30, 40, 50)"
      ]
     },
     "execution_count": 52,
     "metadata": {},
     "output_type": "execute_result"
    }
   ],
   "source": [
    "tuple1[2:5]"
   ]
  },
  {
   "cell_type": "code",
   "execution_count": 54,
   "metadata": {},
   "outputs": [
    {
     "name": "stdout",
     "output_type": "stream",
     "text": [
      "(2, 3, 4, 5, 6, 7, 8, 9)\n",
      "(1, 2, 3, 4)\n",
      "(2, 3, 4, 5)\n",
      "(1, 3, 5)\n",
      "9\n"
     ]
    }
   ],
   "source": [
    "tuple = (1,2,3,4,5,6,7,8,9)  \n",
    "#element 1 to end  \n",
    "print(tuple[1:])  \n",
    "#element 0 to 3 element   \n",
    "print(tuple[:4])  \n",
    "#element 1 to 4 element  \n",
    "print(tuple[1:5])   \n",
    "# element 0 to 6 and take step of 2  \n",
    "print(tuple[0:6:2])  \n",
    "\n",
    "print(tuple[-1])  "
   ]
  },
  {
   "cell_type": "markdown",
   "metadata": {},
   "source": [
    "# Deleting Tuple\n",
    "Unlike lists, the tuple items cannot be deleted by using the del keyword as tuples are immutable. To delete an entire tuple, we can use the del keyword with the tuple name."
   ]
  },
  {
   "cell_type": "code",
   "execution_count": 58,
   "metadata": {},
   "outputs": [
    {
     "name": "stdout",
     "output_type": "stream",
     "text": [
      "(1, 2, 3, 4, 5, 6)\n"
     ]
    }
   ],
   "source": [
    "tuple1 = (1, 2, 3, 4, 5, 6)    \n",
    "print(tuple1)    \n"
   ]
  },
  {
   "cell_type": "code",
   "execution_count": 59,
   "metadata": {},
   "outputs": [
    {
     "ename": "TypeError",
     "evalue": "'tuple' object doesn't support item deletion",
     "output_type": "error",
     "traceback": [
      "\u001b[1;31m---------------------------------------------------------------------------\u001b[0m",
      "\u001b[1;31mTypeError\u001b[0m                                 Traceback (most recent call last)",
      "\u001b[1;32m<ipython-input-59-82e9439c8ea2>\u001b[0m in \u001b[0;36m<module>\u001b[1;34m\u001b[0m\n\u001b[1;32m----> 1\u001b[1;33m \u001b[1;32mdel\u001b[0m \u001b[0mtuple1\u001b[0m\u001b[1;33m[\u001b[0m\u001b[1;36m0\u001b[0m\u001b[1;33m]\u001b[0m\u001b[1;33m\u001b[0m\u001b[1;33m\u001b[0m\u001b[0m\n\u001b[0m\u001b[0;32m      2\u001b[0m \u001b[0mprint\u001b[0m\u001b[1;33m(\u001b[0m\u001b[0mtuple1\u001b[0m\u001b[1;33m)\u001b[0m\u001b[1;33m\u001b[0m\u001b[1;33m\u001b[0m\u001b[0m\n",
      "\u001b[1;31mTypeError\u001b[0m: 'tuple' object doesn't support item deletion"
     ]
    }
   ],
   "source": [
    "del tuple1[0]    \n",
    "print(tuple1)   "
   ]
  },
  {
   "cell_type": "code",
   "execution_count": 60,
   "metadata": {},
   "outputs": [
    {
     "ename": "NameError",
     "evalue": "name 'tuple1' is not defined",
     "output_type": "error",
     "traceback": [
      "\u001b[1;31m---------------------------------------------------------------------------\u001b[0m",
      "\u001b[1;31mNameError\u001b[0m                                 Traceback (most recent call last)",
      "\u001b[1;32m<ipython-input-60-eb5c852c2239>\u001b[0m in \u001b[0;36m<module>\u001b[1;34m\u001b[0m\n\u001b[0;32m      1\u001b[0m \u001b[1;32mdel\u001b[0m \u001b[0mtuple1\u001b[0m\u001b[1;33m\u001b[0m\u001b[1;33m\u001b[0m\u001b[0m\n\u001b[1;32m----> 2\u001b[1;33m \u001b[0mprint\u001b[0m\u001b[1;33m(\u001b[0m\u001b[0mtuple1\u001b[0m\u001b[1;33m)\u001b[0m\u001b[1;33m\u001b[0m\u001b[1;33m\u001b[0m\u001b[0m\n\u001b[0m",
      "\u001b[1;31mNameError\u001b[0m: name 'tuple1' is not defined"
     ]
    }
   ],
   "source": [
    "del tuple1    \n",
    "print(tuple1)    "
   ]
  },
  {
   "cell_type": "code",
   "execution_count": 61,
   "metadata": {},
   "outputs": [
    {
     "name": "stdout",
     "output_type": "stream",
     "text": [
      "(10, 30, 50, 70, 100, 20, 40, 60, 80, 90)\n"
     ]
    }
   ],
   "source": [
    "#The operators like concatenation (+), repetition (*), Membership (in) works in the \n",
    "#same way as they work with the list. \n",
    "T1=(10,30,50,70,100)\n",
    "T2=(20,40,60,80,90)\n",
    "print(T1+T2)\n"
   ]
  },
  {
   "cell_type": "markdown",
   "metadata": {},
   "source": [
    "use Tuple:\n",
    "Using tuple instead of list gives us a clear idea that tuple data is constant and must not be changed.Tuple can simulate a dictionary without keys. "
   ]
  },
  {
   "cell_type": "code",
   "execution_count": 63,
   "metadata": {},
   "outputs": [],
   "source": [
    "L=[(101, \"John\", 22), (102, \"Mike\", 28),  (103, \"Dustin\", 30)]  "
   ]
  },
  {
   "cell_type": "code",
   "execution_count": 65,
   "metadata": {},
   "outputs": [
    {
     "data": {
      "text/plain": [
       "(102, 'Mike', 28)"
      ]
     },
     "execution_count": 65,
     "metadata": {},
     "output_type": "execute_result"
    }
   ],
   "source": [
    "L[1]\n"
   ]
  },
  {
   "cell_type": "markdown",
   "metadata": {},
   "source": [
    "# Sets\n",
    "A Python set is the collection of the unordered items. Each element in the set must be unique. \n",
    "Once a set is created, you cannot change its items, but you can add new items..sets remove the duplicate elements.\n",
    "\n",
    "Unlike other collections in Python, there is no index attached to the elements of the set, i.e., we cannot directly access any element of the set by the index. However, we can print them all together, or we can get the list of elements by looping through the set.\n",
    "\n"
   ]
  },
  {
   "cell_type": "code",
   "execution_count": 73,
   "metadata": {},
   "outputs": [
    {
     "name": "stdout",
     "output_type": "stream",
     "text": [
      "{'Sunday', 'Wednesday', 'Thursday', 'Monday', 'Tuesday', 'Saturday', 'Friday'}\n",
      "<class 'set'>\n",
      "looping through the set elements ... \n",
      "Sunday\n",
      "Wednesday\n",
      "Thursday\n",
      "Monday\n",
      "Tuesday\n",
      "Saturday\n",
      "Friday\n"
     ]
    }
   ],
   "source": [
    "Days = {\"Monday\", \"Tuesday\", \"Wednesday\", \"Thursday\", \"Friday\", \"Saturday\", \"Sunday\"}    \n",
    "print(Days)    \n",
    "print(type(Days))    \n",
    "print(\"looping through the set elements ... \")    \n",
    "for i in Days:    \n",
    "    print(i)    "
   ]
  },
  {
   "cell_type": "code",
   "execution_count": 74,
   "metadata": {},
   "outputs": [
    {
     "name": "stdout",
     "output_type": "stream",
     "text": [
      "{'Sunday', 'Wednesday', 'Thursday', 'Monday', 'Tuesday', 'Saturday', 'Friday'}\n",
      "<class 'set'>\n",
      "looping through the set elements ... \n",
      "Sunday\n",
      "Wednesday\n",
      "Thursday\n",
      "Monday\n",
      "Tuesday\n",
      "Saturday\n",
      "Friday\n"
     ]
    }
   ],
   "source": [
    "Days = set([\"Monday\", \"Tuesday\", \"Wednesday\", \"Thursday\", \"Friday\", \"Saturday\", \"Sunday\"])    \n",
    "print(Days)    \n",
    "print(type(Days))    \n",
    "print(\"looping through the set elements ... \")    \n",
    "for i in Days:    \n",
    "    print(i)    "
   ]
  },
  {
   "cell_type": "markdown",
   "metadata": {},
   "source": [
    "It can contain any type of element such as integer, float, tuple etc. But mutable elements (list, dictionary, set) can't be a member of set. Consider the following example."
   ]
  },
  {
   "cell_type": "code",
   "execution_count": null,
   "metadata": {},
   "outputs": [],
   "source": [
    "Add Items\n",
    "To add one item to a set use the add() method.\n",
    "To add more than one item to a set use the update() method."
   ]
  },
  {
   "cell_type": "code",
   "execution_count": 75,
   "metadata": {},
   "outputs": [
    {
     "name": "stdout",
     "output_type": "stream",
     "text": [
      "{'banana', 'orange', 'apple', 'cherry'}\n"
     ]
    }
   ],
   "source": [
    "S = {\"apple\", \"banana\", \"cherry\"}\n",
    "\n",
    "S.add(\"orange\")\n",
    "\n",
    "print(S)"
   ]
  },
  {
   "cell_type": "code",
   "execution_count": 77,
   "metadata": {},
   "outputs": [
    {
     "name": "stdout",
     "output_type": "stream",
     "text": [
      "{'pineapple', 'mango', 'banana', 'cherry', 'orange', 'apple', 'litchi'}\n",
      "7\n"
     ]
    }
   ],
   "source": [
    "#Add multiple items to a set, using the update() method\n",
    "S.update([\"mango\",\"pineapple\",\"litchi\"])\n",
    "print(S)\n",
    "print(len(S))"
   ]
  },
  {
   "cell_type": "code",
   "execution_count": 80,
   "metadata": {},
   "outputs": [
    {
     "name": "stdout",
     "output_type": "stream",
     "text": [
      "{'pineapple', 'banana', 'cherry', 'orange', 'apple', 'litchi'}\n",
      "{'pineapple', 'banana', 'cherry', 'orange', 'litchi'}\n"
     ]
    }
   ],
   "source": [
    "#To remove an item in a set, use the remove(), or the discard() method.\n",
    "#S.remove(\"mango\")\n",
    "print(S)\n",
    "#If the item to remove does not exist, remove() will raise an error.\n",
    "#Remove item by using the discard() method:\n",
    "S.discard(\"apple\")\n",
    "print(S)\n",
    "#If the item to remove does not exist, discard() will NOT raise an error.\n"
   ]
  },
  {
   "cell_type": "code",
   "execution_count": 81,
   "metadata": {},
   "outputs": [
    {
     "name": "stdout",
     "output_type": "stream",
     "text": [
      "pineapple\n"
     ]
    }
   ],
   "source": [
    "#You can also use the pop(), method to remove an item, \n",
    "#but this method will remove the last item. \n",
    "#Remember that sets are unordered, so you will not know what item that gets removed.\n",
    "Z=S.pop()\n",
    "print(Z)"
   ]
  },
  {
   "cell_type": "code",
   "execution_count": 82,
   "metadata": {},
   "outputs": [
    {
     "name": "stdout",
     "output_type": "stream",
     "text": [
      "set()\n"
     ]
    }
   ],
   "source": [
    "#The clear() method empties the set\n",
    "S.clear()\n",
    "print(S)"
   ]
  },
  {
   "cell_type": "code",
   "execution_count": 83,
   "metadata": {},
   "outputs": [
    {
     "name": "stdout",
     "output_type": "stream",
     "text": [
      "{1, 'c', 2, 3, 'a', 'b'}\n"
     ]
    }
   ],
   "source": [
    "set1 = {\"a\", \"b\" , \"c\"}\n",
    "set2 = {1, 2, 3}\n",
    "\n",
    "set3 = set1.union(set2)\n",
    "print(set3)"
   ]
  },
  {
   "cell_type": "code",
   "execution_count": 84,
   "metadata": {},
   "outputs": [
    {
     "name": "stdout",
     "output_type": "stream",
     "text": [
      "{1, 'c', 2, 3, 'a', 'b'}\n"
     ]
    }
   ],
   "source": [
    "#he update() method inserts the items of set2 into set1:\n",
    "#Both union() and update() will exclude any duplicate items.\n",
    "set1 = {\"a\", \"b\" , \"c\"}\n",
    "set2 = {1, 2, 3}\n",
    "\n",
    "set1.update(set2)\n",
    "print(set1)"
   ]
  },
  {
   "cell_type": "code",
   "execution_count": 87,
   "metadata": {},
   "outputs": [
    {
     "name": "stdout",
     "output_type": "stream",
     "text": [
      "{'Sunday', 'Wednesday', 'Tuesday', 'Thursday', 'Saturday', 'Monday', 'Friday'}\n",
      "{'Sunday'}\n"
     ]
    }
   ],
   "source": [
    "#using union | operator\n",
    "Days1 = {\"Monday\",\"Tuesday\",\"Wednesday\",\"Thursday\", \"Sunday\"}    \n",
    "Days2 = {\"Friday\",\"Saturday\",\"Sunday\"}    \n",
    "print(Days1 | Days2) #printing the union of the sets     \n",
    "print(Days1 & Days2) #prints the intersection of the two sets    "
   ]
  },
  {
   "cell_type": "code",
   "execution_count": 88,
   "metadata": {},
   "outputs": [
    {
     "name": "stdout",
     "output_type": "stream",
     "text": [
      "{'Thursday', 'Wednesday'}\n"
     ]
    }
   ],
   "source": [
    "Days1 = {\"Monday\",  \"Tuesday\", \"Wednesday\", \"Thursday\"}    \n",
    "Days2 = {\"Monday\", \"Tuesday\", \"Sunday\"}    \n",
    "print(Days1-Days2) "
   ]
  },
  {
   "cell_type": "code",
   "execution_count": 89,
   "metadata": {},
   "outputs": [
    {
     "name": "stdout",
     "output_type": "stream",
     "text": [
      "{3, 4, 5, 6, 8, 9, 10}\n"
     ]
    }
   ],
   "source": [
    "#Symmetric Difference of two sets\n",
    "#The symmetric difference of two sets is calculated by ^ operator or symmetric_difference() method. \n",
    "#Symmetric difference of sets, it removes that element which is present in both sets. \n",
    "a = {1,2,3,4,5,6}  \n",
    "b = {1,2,9,8,10}  \n",
    "c = a^b  \n",
    "print(c)  "
   ]
  },
  {
   "cell_type": "code",
   "execution_count": null,
   "metadata": {},
   "outputs": [],
   "source": [
    "#Python allows us to use the comparison operators i.e., <, >, <=, >= , == \n",
    "#with the sets by using which we can check whether a set is a subset, superset, or \n",
    "#equivalent to other set. T\n",
    "\n",
    "Days1 = {\"Monday\",  \"Tuesday\", \"Wednesday\", \"Thursday\"}    \n",
    "Days2 = {\"Monday\", \"Tuesday\"}    \n",
    "Days3 = {\"Monday\", \"Tuesday\", \"Friday\"}    \n",
    "    \n",
    "#Days1 is the superset of Days2 hence it will print true.     \n",
    "print (Days1>Days2)     \n",
    "    \n",
    "#prints false since Days1 is not the subset of Days2     \n",
    "print (Days1<Days2)    \n",
    "    \n",
    "#prints false since Days2 and Days3 are not equivalent     \n",
    "print (Days2 == Days3)    "
   ]
  },
  {
   "cell_type": "code",
   "execution_count": 90,
   "metadata": {},
   "outputs": [
    {
     "name": "stdout",
     "output_type": "stream",
     "text": [
      "<class 'frozenset'>\n",
      "\n",
      "printing the content of frozen set...\n",
      "1\n",
      "2\n",
      "3\n",
      "4\n",
      "5\n"
     ]
    },
    {
     "ename": "AttributeError",
     "evalue": "'frozenset' object has no attribute 'add'",
     "output_type": "error",
     "traceback": [
      "\u001b[1;31m---------------------------------------------------------------------------\u001b[0m",
      "\u001b[1;31mAttributeError\u001b[0m                            Traceback (most recent call last)",
      "\u001b[1;32m<ipython-input-90-f66d2d3b62db>\u001b[0m in \u001b[0;36m<module>\u001b[1;34m\u001b[0m\n\u001b[0;32m      4\u001b[0m \u001b[1;32mfor\u001b[0m \u001b[0mi\u001b[0m \u001b[1;32min\u001b[0m \u001b[0mFrozenset\u001b[0m\u001b[1;33m:\u001b[0m\u001b[1;33m\u001b[0m\u001b[1;33m\u001b[0m\u001b[0m\n\u001b[0;32m      5\u001b[0m     \u001b[0mprint\u001b[0m\u001b[1;33m(\u001b[0m\u001b[0mi\u001b[0m\u001b[1;33m)\u001b[0m\u001b[1;33m;\u001b[0m\u001b[1;33m\u001b[0m\u001b[1;33m\u001b[0m\u001b[0m\n\u001b[1;32m----> 6\u001b[1;33m \u001b[0mFrozenset\u001b[0m\u001b[1;33m.\u001b[0m\u001b[0madd\u001b[0m\u001b[1;33m(\u001b[0m\u001b[1;36m6\u001b[0m\u001b[1;33m)\u001b[0m \u001b[1;31m#gives an error since we cannot change the content of Frozenset after creation\u001b[0m\u001b[1;33m\u001b[0m\u001b[1;33m\u001b[0m\u001b[0m\n\u001b[0m",
      "\u001b[1;31mAttributeError\u001b[0m: 'frozenset' object has no attribute 'add'"
     ]
    }
   ],
   "source": [
    "#The frozen sets are the immutable form of the normal sets, i.e., the items of the frozen set cannot \n",
    "#be changed and therefore it can be used as a key in the dictionary.\n",
    "Frozenset = frozenset([1,2,3,4,5])     \n",
    "print(type(Frozenset))    \n",
    "print(\"\\nprinting the content of frozen set...\")    \n",
    "for i in Frozenset:    \n",
    "    print(i);    \n",
    "Frozenset.add(6) #gives an error since we cannot change the content of Frozenset after creation     "
   ]
  },
  {
   "cell_type": "code",
   "execution_count": null,
   "metadata": {},
   "outputs": [],
   "source": []
  }
 ],
 "metadata": {
  "kernelspec": {
   "display_name": "Python 3",
   "language": "python",
   "name": "python3"
  },
  "language_info": {
   "codemirror_mode": {
    "name": "ipython",
    "version": 3
   },
   "file_extension": ".py",
   "mimetype": "text/x-python",
   "name": "python",
   "nbconvert_exporter": "python",
   "pygments_lexer": "ipython3",
   "version": "3.8.3"
  }
 },
 "nbformat": 4,
 "nbformat_minor": 4
}
